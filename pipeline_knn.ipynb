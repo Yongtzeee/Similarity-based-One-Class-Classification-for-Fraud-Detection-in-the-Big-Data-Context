{
 "cells": [
  {
   "cell_type": "markdown",
   "metadata": {
    "application/vnd.databricks.v1+cell": {
     "inputWidgets": {},
     "nuid": "caf1c8a4-c30f-4f0e-a8d5-7fbc3197207c",
     "showTitle": false,
     "title": ""
    }
   },
   "source": [
    "# Imports"
   ]
  },
  {
   "cell_type": "code",
   "execution_count": 0,
   "metadata": {
    "application/vnd.databricks.v1+cell": {
     "inputWidgets": {},
     "nuid": "61b1a607-a129-49f5-ba76-92ced3364170",
     "showTitle": false,
     "title": ""
    }
   },
   "outputs": [
    {
     "data": {
      "text/html": [
       "<style scoped>\n",
       "  .ansiout {\n",
       "    display: block;\n",
       "    unicode-bidi: embed;\n",
       "    white-space: pre-wrap;\n",
       "    word-wrap: break-word;\n",
       "    word-break: break-all;\n",
       "    font-family: \"Source Code Pro\", \"Menlo\", monospace;;\n",
       "    font-size: 13px;\n",
       "    color: #555;\n",
       "    margin-left: 4px;\n",
       "    line-height: 19px;\n",
       "  }\n",
       "</style>\n",
       "<div class=\"ansiout\"></div>"
      ]
     },
     "metadata": {
      "application/vnd.databricks.v1+output": {
       "addedWidgets": {},
       "arguments": {},
       "data": "<div class=\"ansiout\"></div>",
       "datasetInfos": [],
       "metadata": {},
       "removedWidgets": [],
       "type": "html"
      }
     },
     "output_type": "display_data"
    }
   ],
   "source": [
    "import numpy as np\n",
    "import pandas as pd\n",
    "import time\n",
    "\n",
    "from pyspark.sql import SparkSession\n",
    "from pyspark.ml.feature import VectorAssembler\n",
    "from pyspark.ml.feature import PCA\n",
    "\n",
    "# uncomment when not using DataBricks\n",
    "# spark = SparkSession \\\n",
    "#     .builder \\\n",
    "#     .master(\"local[*]\") \\\n",
    "#     .appName(\"Pipeline\") \\\n",
    "#     .getOrCreate()\n",
    "\n",
    "# sc = spark.sparkContext"
   ]
  },
  {
   "cell_type": "markdown",
   "metadata": {
    "application/vnd.databricks.v1+cell": {
     "inputWidgets": {},
     "nuid": "0afe77fa-ca07-49a5-a393-22acb72f0c69",
     "showTitle": false,
     "title": ""
    }
   },
   "source": [
    "# Reading CSV data"
   ]
  },
  {
   "cell_type": "code",
   "execution_count": 0,
   "metadata": {
    "application/vnd.databricks.v1+cell": {
     "inputWidgets": {},
     "nuid": "5701ba20-ee19-434b-a111-d3c949a2e4fa",
     "showTitle": false,
     "title": ""
    }
   },
   "outputs": [
    {
     "data": {
      "text/html": [
       "<style scoped>\n",
       "  .ansiout {\n",
       "    display: block;\n",
       "    unicode-bidi: embed;\n",
       "    white-space: pre-wrap;\n",
       "    word-wrap: break-word;\n",
       "    word-break: break-all;\n",
       "    font-family: \"Source Code Pro\", \"Menlo\", monospace;;\n",
       "    font-size: 13px;\n",
       "    color: #555;\n",
       "    margin-left: 4px;\n",
       "    line-height: 19px;\n",
       "  }\n",
       "</style>\n",
       "<div class=\"ansiout\"></div>"
      ]
     },
     "metadata": {
      "application/vnd.databricks.v1+output": {
       "addedWidgets": {},
       "arguments": {},
       "data": "<div class=\"ansiout\"></div>",
       "datasetInfos": [],
       "metadata": {},
       "removedWidgets": [],
       "type": "html"
      }
     },
     "output_type": "display_data"
    }
   ],
   "source": [
    "train_identity_dataset = \"/mnt/nottateam/train_identity.csv\"\n",
    "train_transaction_dataset = \"/mnt/nottateam/train_transaction.csv\"\n",
    "test_identity_dataset = \"/mnt/nottateam/test_identity.csv\"\n",
    "test_transaction_dataset = \"/mnt/nottateam/test_transaction.csv\"\n",
    "\n",
    "# load the transaction and identity datasets for both training and testing\n",
    "train_identity = spark.read.options(header=True, inferSchema=True).csv(train_identity_dataset)\n",
    "train_transac = spark.read.options(header=True, inferSchema=True).csv(train_transaction_dataset)\n",
    "\n",
    "test_identity = spark.read.options(header=True, inferSchema=True).csv(test_identity_dataset)\n",
    "test_transac = spark.read.options(header=True, inferSchema=True).csv(test_transaction_dataset)\n",
    "\n",
    "# merge transaction and identity datasets\n",
    "train_set = train_transac.join(train_identity, on=\"TransactionID\",how=\"left\")\n",
    "test_set = test_transac.join(test_identity, on=\"TransactionID\",how=\"left\")\n",
    "\n",
    "# split to fraudulent and normal transactions\n",
    "fraud_cases = train_set.filter(train_set.isFraud==1)\n",
    "nonfraud_cases = train_set.filter(train_set.isFraud==0)\n",
    "\n",
    "# randomly sample a small subset of the fraud and non-fraud transaction instances (~500 each) for validation dataset\n",
    "val_set = nonfraud_cases.sample(500/nonfraud_cases.count())\n",
    "val_set = val_set.union(fraud_cases.sample(500/fraud_cases.count()))\n",
    "train_set = fraud_cases.subtract(val_set)\n",
    "val_set.cache()\n",
    "# get the ground truth\n",
    "gt = val_set.select('isFraud').rdd.map(lambda x : list(x)[0]).collect()"
   ]
  },
  {
   "cell_type": "markdown",
   "metadata": {
    "application/vnd.databricks.v1+cell": {
     "inputWidgets": {},
     "nuid": "685cfcc1-425d-4cf5-a4f4-7fd2f78e23b1",
     "showTitle": false,
     "title": ""
    }
   },
   "source": [
    "# Dataset Cleaning"
   ]
  },
  {
   "cell_type": "markdown",
   "metadata": {
    "application/vnd.databricks.v1+cell": {
     "inputWidgets": {},
     "nuid": "fb8e48cd-e21e-4346-b7ad-dcf1e8ec7de1",
     "showTitle": false,
     "title": ""
    }
   },
   "source": [
    "We are only focusing on the fraud part of the dataset. \n",
    "\n",
    "For this part, we clean the strings columns by removing redundant string columns and cleaning columns containing more than 10 unique string values. Next, we convert the all remaining NaN values into 0.\n",
    "\n",
    "The output of this step will be passed into the feature extraction part."
   ]
  },
  {
   "cell_type": "code",
   "execution_count": 0,
   "metadata": {
    "application/vnd.databricks.v1+cell": {
     "inputWidgets": {},
     "nuid": "e20262d8-25fd-4311-bfea-c1d9f3a1c1e4",
     "showTitle": false,
     "title": ""
    }
   },
   "outputs": [
    {
     "data": {
      "text/html": [
       "<style scoped>\n",
       "  .ansiout {\n",
       "    display: block;\n",
       "    unicode-bidi: embed;\n",
       "    white-space: pre-wrap;\n",
       "    word-wrap: break-word;\n",
       "    word-break: break-all;\n",
       "    font-family: \"Source Code Pro\", \"Menlo\", monospace;;\n",
       "    font-size: 13px;\n",
       "    color: #555;\n",
       "    margin-left: 4px;\n",
       "    line-height: 19px;\n",
       "  }\n",
       "</style>\n",
       "<div class=\"ansiout\"></div>"
      ]
     },
     "metadata": {
      "application/vnd.databricks.v1+output": {
       "addedWidgets": {},
       "arguments": {},
       "data": "<div class=\"ansiout\"></div>",
       "datasetInfos": [],
       "metadata": {},
       "removedWidgets": [],
       "type": "html"
      }
     },
     "output_type": "display_data"
    }
   ],
   "source": [
    "# retrieve string columns\n",
    "string_cols = sc.parallelize(train_set.dtypes).filter(lambda x: x[1]=='string').map(lambda x:x[0]).collect()\n",
    "\n",
    "\n",
    "# change the columns of test dataset to be consistent with train dataset\n",
    "test_set = test_set.withColumnRenamed(\"id-01\", \"id_01\").withColumnRenamed(\"id-02\", \"id_02\").withColumnRenamed(\"id-03\", \"id_03\").withColumnRenamed(\"id-04\", \"id_04\").withColumnRenamed(\"id-05\", \"id_05\").withColumnRenamed(\"id-06\", \"id_06\").withColumnRenamed(\"id-07\", \"id_07\").withColumnRenamed(\"id-08\", \"id_08\").withColumnRenamed(\"id-09\", \"id_09\").withColumnRenamed(\"id-10\", \"id_10\").withColumnRenamed(\"id-11\", \"id_11\").withColumnRenamed(\"id-12\", \"id_12\").withColumnRenamed(\"id-13\", \"id_13\").withColumnRenamed(\"id-14\", \"id_14\").withColumnRenamed(\"id-15\", \"id_15\").withColumnRenamed(\"id-16\", \"id_16\").withColumnRenamed(\"id-17\", \"id_17\").withColumnRenamed(\"id-18\", \"id_18\").withColumnRenamed(\"id-19\", \"id_19\").withColumnRenamed(\"id-20\", \"id_20\").withColumnRenamed(\"id-21\", \"id_21\").withColumnRenamed(\"id-22\", \"id_22\").withColumnRenamed(\"id-23\", \"id_23\").withColumnRenamed(\"id-24\", \"id_24\").withColumnRenamed(\"id-25\", \"id_25\").withColumnRenamed(\"id-26\", \"id_26\").withColumnRenamed(\"id-27\", \"id_27\").withColumnRenamed(\"id-28\", \"id_28\").withColumnRenamed(\"id-29\", \"id_29\").withColumnRenamed(\"id-30\", \"id_30\").withColumnRenamed(\"id-31\", \"id_31\").withColumnRenamed(\"id-32\", \"id_32\").withColumnRenamed(\"id-33\", \"id_33\").withColumnRenamed(\"id-34\", \"id_34\").withColumnRenamed(\"id-35\", \"id_35\").withColumnRenamed(\"id-36\", \"id_36\").withColumnRenamed(\"id-37\", \"id_37\").withColumnRenamed(\"id-38\", \"id_38\")\n",
    "\n",
    "# retrieve string columns\n",
    "string_cols_test = sc.parallelize(test_set.dtypes).filter(lambda x: x[1]=='string').map(lambda x:x[0]).collect()"
   ]
  },
  {
   "cell_type": "markdown",
   "metadata": {
    "application/vnd.databricks.v1+cell": {
     "inputWidgets": {},
     "nuid": "ad9c9dab-3ce3-42bc-91cb-0e1e19511e65",
     "showTitle": false,
     "title": ""
    }
   },
   "source": [
    "### Convert TransactionDT column"
   ]
  },
  {
   "cell_type": "markdown",
   "metadata": {
    "application/vnd.databricks.v1+cell": {
     "inputWidgets": {},
     "nuid": "18912253-7bf5-4b67-8303-81307236f880",
     "showTitle": false,
     "title": ""
    }
   },
   "source": [
    "Additionally, we want to convert the TransactionDT into the time difference relative to the \"start of the day\"."
   ]
  },
  {
   "cell_type": "code",
   "execution_count": 0,
   "metadata": {
    "application/vnd.databricks.v1+cell": {
     "inputWidgets": {},
     "nuid": "c189a364-7b37-4719-9836-b8c30efaa178",
     "showTitle": false,
     "title": ""
    }
   },
   "outputs": [
    {
     "data": {
      "text/html": [
       "<style scoped>\n",
       "  .ansiout {\n",
       "    display: block;\n",
       "    unicode-bidi: embed;\n",
       "    white-space: pre-wrap;\n",
       "    word-wrap: break-word;\n",
       "    word-break: break-all;\n",
       "    font-family: \"Source Code Pro\", \"Menlo\", monospace;;\n",
       "    font-size: 13px;\n",
       "    color: #555;\n",
       "    margin-left: 4px;\n",
       "    line-height: 19px;\n",
       "  }\n",
       "</style>\n",
       "<div class=\"ansiout\"></div>"
      ]
     },
     "metadata": {
      "application/vnd.databricks.v1+output": {
       "addedWidgets": {},
       "arguments": {},
       "data": "<div class=\"ansiout\"></div>",
       "datasetInfos": [],
       "metadata": {},
       "removedWidgets": [],
       "type": "html"
      }
     },
     "output_type": "display_data"
    }
   ],
   "source": [
    "train_set = train_set.withColumn('TransactionDT', train_set['TransactionDT']%86400)  # there are 86400 seconds in a day\n",
    "\n",
    "val_set = val_set.withColumn('TransactionDT', val_set['TransactionDT']%86400)\n",
    "\n",
    "test_set = test_set.withColumn('TransactionDT', test_set['TransactionDT']%86400)"
   ]
  },
  {
   "cell_type": "markdown",
   "metadata": {
    "application/vnd.databricks.v1+cell": {
     "inputWidgets": {},
     "nuid": "e0f9636e-a1c7-4412-8941-bc0a43fe713e",
     "showTitle": false,
     "title": ""
    }
   },
   "source": [
    "### Dealing with string columns"
   ]
  },
  {
   "cell_type": "code",
   "execution_count": 0,
   "metadata": {
    "application/vnd.databricks.v1+cell": {
     "inputWidgets": {},
     "nuid": "1828ef39-3da7-46d3-9eda-08060b76c402",
     "showTitle": false,
     "title": ""
    }
   },
   "outputs": [
    {
     "data": {
      "text/html": [
       "<style scoped>\n",
       "  .ansiout {\n",
       "    display: block;\n",
       "    unicode-bidi: embed;\n",
       "    white-space: pre-wrap;\n",
       "    word-wrap: break-word;\n",
       "    word-break: break-all;\n",
       "    font-family: \"Source Code Pro\", \"Menlo\", monospace;;\n",
       "    font-size: 13px;\n",
       "    color: #555;\n",
       "    margin-left: 4px;\n",
       "    line-height: 19px;\n",
       "  }\n",
       "</style>\n",
       "<div class=\"ansiout\"></div>"
      ]
     },
     "metadata": {
      "application/vnd.databricks.v1+output": {
       "addedWidgets": {},
       "arguments": {},
       "data": "<div class=\"ansiout\"></div>",
       "datasetInfos": [],
       "metadata": {},
       "removedWidgets": [],
       "type": "html"
      }
     },
     "output_type": "display_data"
    }
   ],
   "source": [
    "from pyspark.sql.functions import isnan, when, count, col\n",
    "\n",
    "# fill NaN or null values with \"N/A\" for string columns to indicate the data is not available\n",
    "train_set = train_set.na.fill(\"N/A\", subset=string_cols)\n",
    "\n",
    "# validation dataset\n",
    "val_set = val_set.na.fill(\"N/A\", subset=string_cols)\n",
    "\n",
    "# test dataset\n",
    "test_set = test_set.na.fill(\"N/A\", subset=string_cols_test)"
   ]
  },
  {
   "cell_type": "code",
   "execution_count": 0,
   "metadata": {
    "application/vnd.databricks.v1+cell": {
     "inputWidgets": {},
     "nuid": "beeb2a30-3875-4984-b990-78a21a0bd379",
     "showTitle": false,
     "title": ""
    }
   },
   "outputs": [
    {
     "data": {
      "text/html": [
       "<style scoped>\n",
       "  .ansiout {\n",
       "    display: block;\n",
       "    unicode-bidi: embed;\n",
       "    white-space: pre-wrap;\n",
       "    word-wrap: break-word;\n",
       "    word-break: break-all;\n",
       "    font-family: \"Source Code Pro\", \"Menlo\", monospace;;\n",
       "    font-size: 13px;\n",
       "    color: #555;\n",
       "    margin-left: 4px;\n",
       "    line-height: 19px;\n",
       "  }\n",
       "</style>\n",
       "<div class=\"ansiout\"></div>"
      ]
     },
     "metadata": {
      "application/vnd.databricks.v1+output": {
       "addedWidgets": {},
       "arguments": {},
       "data": "<div class=\"ansiout\"></div>",
       "datasetInfos": [],
       "metadata": {},
       "removedWidgets": [],
       "type": "html"
      }
     },
     "output_type": "display_data"
    }
   ],
   "source": [
    "from pyspark.sql.functions import regexp_replace\n",
    "\n",
    "# reduce the instances for these columns\n",
    "email_domains = ['gmail','hotmail', 'yahoo', 'outlook', 'icloud', 'live', 'msn', 'anonymous', 'N/A']\n",
    "browsers = ['chrome|google', 'firefox', 'opera', 'edge', 'ie', 'safari', 'N/A']\n",
    "os = ['Windows 10', 'Windows .*', 'iOS 11.*', 'iOS .*', '(Android 7|Android 8).*', 'Android .*', '(Mac OS X 10(_\\.)12|Mac OS X 10(_\\.)13).*', 'Mac OS X.*']\n",
    "\n",
    "# training dataset\n",
    "\n",
    "# P_emaildomain\n",
    "train_set = train_set.withColumn('P_emaildomain', regexp_replace('P_emaildomain', email_domains[0]+'.*', 'gmail'))\n",
    "train_set = train_set.withColumn('P_emaildomain', regexp_replace('P_emaildomain', email_domains[1]+'.*', 'hotmail'))\n",
    "train_set = train_set.withColumn('P_emaildomain', regexp_replace('P_emaildomain', email_domains[2]+'.*', 'yahoo'))\n",
    "train_set = train_set.withColumn('P_emaildomain', regexp_replace('P_emaildomain', email_domains[3]+'.*', 'microsoft'))\n",
    "train_set = train_set.withColumn('P_emaildomain', regexp_replace('P_emaildomain', email_domains[5]+'.*', 'microsoft'))\n",
    "train_set = train_set.withColumn('P_emaildomain', regexp_replace('P_emaildomain', email_domains[6]+'.*', 'microsoft'))\n",
    "train_set = train_set.withColumn('P_emaildomain', regexp_replace('P_emaildomain', email_domains[4]+'.*', 'icloud'))\n",
    "train_set = train_set.withColumn('P_emaildomain', regexp_replace('P_emaildomain', email_domains[7]+'.*', 'anonymous'))\n",
    "train_set = train_set.withColumn('P_emaildomain', regexp_replace('P_emaildomain', email_domains[8]+'.*', 'unknown'))\n",
    "train_set = train_set.withColumn('P_emaildomain', regexp_replace('P_emaildomain', '^((?!'+'|'.join(email_domains)+').)*$', 'others'))\n",
    "\n",
    "\n",
    "# R_emaildomain\n",
    "train_set = train_set.withColumn('R_emaildomain', regexp_replace('R_emaildomain', email_domains[0]+'.*', 'gmail'))\n",
    "train_set = train_set.withColumn('R_emaildomain', regexp_replace('R_emaildomain', email_domains[1]+'.*', 'hotmail'))\n",
    "train_set = train_set.withColumn('R_emaildomain', regexp_replace('R_emaildomain', email_domains[2]+'.*', 'yahoo'))\n",
    "train_set = train_set.withColumn('R_emaildomain', regexp_replace('R_emaildomain', email_domains[3]+'.*', 'microsoft'))\n",
    "train_set = train_set.withColumn('R_emaildomain', regexp_replace('R_emaildomain', email_domains[5]+'.*', 'microsoft'))\n",
    "train_set = train_set.withColumn('R_emaildomain', regexp_replace('R_emaildomain', email_domains[6]+'.*', 'microsoft'))\n",
    "train_set = train_set.withColumn('R_emaildomain', regexp_replace('R_emaildomain', email_domains[4]+'.*', 'icloud'))\n",
    "train_set = train_set.withColumn('R_emaildomain', regexp_replace('R_emaildomain', email_domains[7]+'.*', 'anonymous'))\n",
    "train_set = train_set.withColumn('R_emaildomain', regexp_replace('R_emaildomain', email_domains[8]+'.*', 'unknown'))\n",
    "train_set = train_set.withColumn('R_emaildomain', regexp_replace('R_emaildomain', '^((?!'+'|'.join(email_domains)+').)*$', 'others'))\n",
    "\n",
    "# id_30\n",
    "train_set = train_set.withColumn('id_30', regexp_replace('id_30', os[0], 'windows_latest'))\n",
    "train_set = train_set.withColumn('id_30', regexp_replace('id_30', os[1], 'windows_others'))\n",
    "train_set = train_set.withColumn('id_30', regexp_replace('id_30', os[2], 'ios_latest'))\n",
    "train_set = train_set.withColumn('id_30', regexp_replace('id_30', os[3], 'ios_others'))\n",
    "train_set = train_set.withColumn('id_30', regexp_replace('id_30', os[4], 'android_latest'))\n",
    "train_set = train_set.withColumn('id_30', regexp_replace('id_30', os[5], 'android_others'))\n",
    "train_set = train_set.withColumn('id_30', regexp_replace('id_30', os[6], 'macos_latest'))\n",
    "train_set = train_set.withColumn('id_30', regexp_replace('id_30', os[7], 'macos_others'))\n",
    "os_new = ['windows_latest', 'windows_others', 'ios_latest', 'ios_others', 'android_latest', 'android_others', 'macos_latest', 'macos_others']\n",
    "train_set = train_set.withColumn('id_30', regexp_replace('id_30', '^((?!'+'|'.join(os_new)+').)*$', 'unknown'))\n",
    "\n",
    "# id_31\n",
    "train_set = train_set.withColumn('id_31', regexp_replace('id_31', '.*('+browsers[0]+').*', 'chrome'))\n",
    "train_set = train_set.withColumn('id_31', regexp_replace('id_31', '.*('+browsers[1]+').*', 'firefox'))\n",
    "train_set = train_set.withColumn('id_31', regexp_replace('id_31', '.*('+browsers[2]+').*', 'opera'))\n",
    "train_set = train_set.withColumn('id_31', regexp_replace('id_31', '.*('+browsers[3]+').*', 'edge'))\n",
    "train_set = train_set.withColumn('id_31', regexp_replace('id_31', '.*('+browsers[4]+').*', 'ie'))\n",
    "train_set = train_set.withColumn('id_31', regexp_replace('id_31', '.*('+browsers[5]+').*', 'safari'))\n",
    "train_set = train_set.withColumn('id_31', regexp_replace('id_31', '.*('+browsers[6]+').*', 'unknown'))\n",
    "browser_new = ['chrome','firefox','opera','edge','ie','safari','unknown']\n",
    "train_set = train_set.withColumn('id_31', regexp_replace('id_31', '^((?!'+'|'.join(browser_new)+').)*$', 'others'))\n"
   ]
  },
  {
   "cell_type": "code",
   "execution_count": 0,
   "metadata": {
    "application/vnd.databricks.v1+cell": {
     "inputWidgets": {},
     "nuid": "efb3b525-d510-4055-b0e1-3e20c63cc1f7",
     "showTitle": false,
     "title": ""
    }
   },
   "outputs": [
    {
     "data": {
      "text/html": [
       "<style scoped>\n",
       "  .ansiout {\n",
       "    display: block;\n",
       "    unicode-bidi: embed;\n",
       "    white-space: pre-wrap;\n",
       "    word-wrap: break-word;\n",
       "    word-break: break-all;\n",
       "    font-family: \"Source Code Pro\", \"Menlo\", monospace;;\n",
       "    font-size: 13px;\n",
       "    color: #555;\n",
       "    margin-left: 4px;\n",
       "    line-height: 19px;\n",
       "  }\n",
       "</style>\n",
       "<div class=\"ansiout\"></div>"
      ]
     },
     "metadata": {
      "application/vnd.databricks.v1+output": {
       "addedWidgets": {},
       "arguments": {},
       "data": "<div class=\"ansiout\"></div>",
       "datasetInfos": [],
       "metadata": {},
       "removedWidgets": [],
       "type": "html"
      }
     },
     "output_type": "display_data"
    }
   ],
   "source": [
    "# validation dataset\n",
    "\n",
    "email_domains = ['gmail','hotmail', 'yahoo', 'outlook', 'icloud', 'live', 'msn', 'anonymous', 'N/A']\n",
    "browsers = ['chrome|google', 'firefox', 'opera', 'edge', 'ie', 'safari', 'N/A']\n",
    "os = ['Windows 10', 'Windows .*', 'iOS 11.*', 'iOS .*', '(Android 7|Android 8).*', 'Android .*', '(Mac OS X 10(_\\.)12|Mac OS X 10(_\\.)13).*', 'Mac OS X.*']\n",
    "\n",
    "\n",
    "# P_emaildomain\n",
    "val_set = val_set.withColumn('P_emaildomain', regexp_replace('P_emaildomain', email_domains[0]+'.*', 'gmail'))\n",
    "val_set = val_set.withColumn('P_emaildomain', regexp_replace('P_emaildomain', email_domains[1]+'.*', 'hotmail'))\n",
    "val_set = val_set.withColumn('P_emaildomain', regexp_replace('P_emaildomain', email_domains[2]+'.*', 'yahoo'))\n",
    "val_set = val_set.withColumn('P_emaildomain', regexp_replace('P_emaildomain', email_domains[3]+'.*', 'microsoft'))\n",
    "val_set = val_set.withColumn('P_emaildomain', regexp_replace('P_emaildomain', email_domains[5]+'.*', 'microsoft'))\n",
    "val_set = val_set.withColumn('P_emaildomain', regexp_replace('P_emaildomain', email_domains[6]+'.*', 'microsoft'))\n",
    "val_set = val_set.withColumn('P_emaildomain', regexp_replace('P_emaildomain', email_domains[4]+'.*', 'icloud'))\n",
    "val_set = val_set.withColumn('P_emaildomain', regexp_replace('P_emaildomain', email_domains[7]+'.*', 'anonymous'))\n",
    "val_set = val_set.withColumn('P_emaildomain', regexp_replace('P_emaildomain', email_domains[8]+'.*', 'unknown'))\n",
    "val_set = val_set.withColumn('P_emaildomain', regexp_replace('P_emaildomain', '^((?!'+'|'.join(email_domains)+').)*$', 'others'))\n",
    "\n",
    "\n",
    "# R_emaildomain\n",
    "val_set = val_set.withColumn('R_emaildomain', regexp_replace('R_emaildomain', email_domains[0]+'.*', 'gmail'))\n",
    "val_set = val_set.withColumn('R_emaildomain', regexp_replace('R_emaildomain', email_domains[1]+'.*', 'hotmail'))\n",
    "val_set = val_set.withColumn('R_emaildomain', regexp_replace('R_emaildomain', email_domains[2]+'.*', 'yahoo'))\n",
    "val_set = val_set.withColumn('R_emaildomain', regexp_replace('R_emaildomain', email_domains[3]+'.*', 'microsoft'))\n",
    "val_set = val_set.withColumn('R_emaildomain', regexp_replace('R_emaildomain', email_domains[5]+'.*', 'microsoft'))\n",
    "val_set = val_set.withColumn('R_emaildomain', regexp_replace('R_emaildomain', email_domains[6]+'.*', 'microsoft'))\n",
    "val_set = val_set.withColumn('R_emaildomain', regexp_replace('R_emaildomain', email_domains[4]+'.*', 'icloud'))\n",
    "val_set = val_set.withColumn('R_emaildomain', regexp_replace('R_emaildomain', email_domains[7]+'.*', 'anonymous'))\n",
    "val_set = val_set.withColumn('R_emaildomain', regexp_replace('R_emaildomain', email_domains[8]+'.*', 'unknown'))\n",
    "val_set = val_set.withColumn('R_emaildomain', regexp_replace('R_emaildomain', '^((?!'+'|'.join(email_domains)+').)*$', 'others'))\n",
    "\n",
    "# id_30\n",
    "val_set = val_set.withColumn('id_30', regexp_replace('id_30', os[0], 'windows_latest'))\n",
    "val_set = val_set.withColumn('id_30', regexp_replace('id_30', os[1], 'windows_others'))\n",
    "val_set = val_set.withColumn('id_30', regexp_replace('id_30', os[2], 'ios_latest'))\n",
    "val_set = val_set.withColumn('id_30', regexp_replace('id_30', os[3], 'ios_others'))\n",
    "val_set = val_set.withColumn('id_30', regexp_replace('id_30', os[4], 'android_latest'))\n",
    "val_set = val_set.withColumn('id_30', regexp_replace('id_30', os[5], 'android_others'))\n",
    "val_set = val_set.withColumn('id_30', regexp_replace('id_30', os[6], 'macos_latest'))\n",
    "val_set = val_set.withColumn('id_30', regexp_replace('id_30', os[7], 'macos_others'))\n",
    "os_new = ['windows_latest', 'windows_others', 'ios_latest', 'ios_others', 'android_latest', 'android_others', 'macos_latest', 'macos_others']\n",
    "val_set = val_set.withColumn('id_30', regexp_replace('id_30', '^((?!'+'|'.join(os_new)+').)*$', 'unknown'))\n",
    "\n",
    "# id_31\n",
    "val_set = val_set.withColumn('id_31', regexp_replace('id_31', '.*('+browsers[0]+').*', 'chrome'))\n",
    "val_set = val_set.withColumn('id_31', regexp_replace('id_31', '.*('+browsers[1]+').*', 'firefox'))\n",
    "val_set = val_set.withColumn('id_31', regexp_replace('id_31', '.*('+browsers[2]+').*', 'opera'))\n",
    "val_set = val_set.withColumn('id_31', regexp_replace('id_31', '.*('+browsers[3]+').*', 'edge'))\n",
    "val_set = val_set.withColumn('id_31', regexp_replace('id_31', '.*('+browsers[4]+').*', 'ie'))\n",
    "val_set = val_set.withColumn('id_31', regexp_replace('id_31', '.*('+browsers[5]+').*', 'safari'))\n",
    "val_set = val_set.withColumn('id_31', regexp_replace('id_31', '.*('+browsers[6]+').*', 'unknown'))\n",
    "browser_new = ['chrome','firefox','opera','edge','ie','safari','unknown']\n",
    "val_set = val_set.withColumn('id_31', regexp_replace('id_31', '^((?!'+'|'.join(browser_new)+').)*$', 'others'))\n"
   ]
  },
  {
   "cell_type": "code",
   "execution_count": 0,
   "metadata": {
    "application/vnd.databricks.v1+cell": {
     "inputWidgets": {},
     "nuid": "3c034eed-fc09-46e3-bb3a-6322249405cc",
     "showTitle": false,
     "title": ""
    }
   },
   "outputs": [
    {
     "data": {
      "text/html": [
       "<style scoped>\n",
       "  .ansiout {\n",
       "    display: block;\n",
       "    unicode-bidi: embed;\n",
       "    white-space: pre-wrap;\n",
       "    word-wrap: break-word;\n",
       "    word-break: break-all;\n",
       "    font-family: \"Source Code Pro\", \"Menlo\", monospace;;\n",
       "    font-size: 13px;\n",
       "    color: #555;\n",
       "    margin-left: 4px;\n",
       "    line-height: 19px;\n",
       "  }\n",
       "</style>\n",
       "<div class=\"ansiout\"></div>"
      ]
     },
     "metadata": {
      "application/vnd.databricks.v1+output": {
       "addedWidgets": {},
       "arguments": {},
       "data": "<div class=\"ansiout\"></div>",
       "datasetInfos": [],
       "metadata": {},
       "removedWidgets": [],
       "type": "html"
      }
     },
     "output_type": "display_data"
    }
   ],
   "source": [
    "# test dataset\n",
    "\n",
    "# P_emaildomain\n",
    "test_set = test_set.withColumn('P_emaildomain', regexp_replace('P_emaildomain', email_domains[0]+'.*', 'gmail'))\n",
    "test_set = test_set.withColumn('P_emaildomain', regexp_replace('P_emaildomain', email_domains[1]+'.*', 'hotmail'))\n",
    "test_set = test_set.withColumn('P_emaildomain', regexp_replace('P_emaildomain', email_domains[2]+'.*', 'yahoo'))\n",
    "test_set = test_set.withColumn('P_emaildomain', regexp_replace('P_emaildomain', email_domains[3]+'.*', 'microsoft'))\n",
    "test_set = test_set.withColumn('P_emaildomain', regexp_replace('P_emaildomain', email_domains[5]+'.*', 'microsoft'))\n",
    "test_set = test_set.withColumn('P_emaildomain', regexp_replace('P_emaildomain', email_domains[6]+'.*', 'microsoft'))\n",
    "test_set = test_set.withColumn('P_emaildomain', regexp_replace('P_emaildomain', email_domains[4]+'.*', 'icloud'))\n",
    "test_set = test_set.withColumn('P_emaildomain', regexp_replace('P_emaildomain', email_domains[7]+'.*', 'anonymous'))\n",
    "test_set = test_set.withColumn('P_emaildomain', regexp_replace('P_emaildomain', email_domains[8]+'.*', 'unknown'))\n",
    "test_set = test_set.withColumn('P_emaildomain', regexp_replace('P_emaildomain', '^((?!'+'|'.join(email_domains)+').)*$', 'others'))\n",
    "\n",
    "\n",
    "# R_emaildomain\n",
    "test_set = test_set.withColumn('R_emaildomain', regexp_replace('R_emaildomain', email_domains[0]+'.*', 'gmail'))\n",
    "test_set = test_set.withColumn('R_emaildomain', regexp_replace('R_emaildomain', email_domains[1]+'.*', 'hotmail'))\n",
    "test_set = test_set.withColumn('R_emaildomain', regexp_replace('R_emaildomain', email_domains[2]+'.*', 'yahoo'))\n",
    "test_set = test_set.withColumn('R_emaildomain', regexp_replace('R_emaildomain', email_domains[3]+'.*', 'microsoft'))\n",
    "test_set = test_set.withColumn('R_emaildomain', regexp_replace('R_emaildomain', email_domains[5]+'.*', 'microsoft'))\n",
    "test_set = test_set.withColumn('R_emaildomain', regexp_replace('R_emaildomain', email_domains[6]+'.*', 'microsoft'))\n",
    "test_set = test_set.withColumn('R_emaildomain', regexp_replace('R_emaildomain', email_domains[4]+'.*', 'icloud'))\n",
    "test_set = test_set.withColumn('R_emaildomain', regexp_replace('R_emaildomain', email_domains[7]+'.*', 'anonymous'))\n",
    "test_set = test_set.withColumn('R_emaildomain', regexp_replace('R_emaildomain', email_domains[8]+'.*', 'unknown'))\n",
    "test_set = test_set.withColumn('R_emaildomain', regexp_replace('R_emaildomain', '^((?!'+'|'.join(email_domains)+').)*$', 'others'))\n",
    "\n",
    "# id_30\n",
    "test_set = test_set.withColumn('id_30', regexp_replace('id_30', os[0], 'windows_latest'))\n",
    "test_set = test_set.withColumn('id_30', regexp_replace('id_30', os[1], 'windows_others'))\n",
    "test_set = test_set.withColumn('id_30', regexp_replace('id_30', os[2], 'ios_latest'))\n",
    "test_set = test_set.withColumn('id_30', regexp_replace('id_30', os[3], 'ios_others'))\n",
    "test_set = test_set.withColumn('id_30', regexp_replace('id_30', os[4], 'android_latest'))\n",
    "test_set = test_set.withColumn('id_30', regexp_replace('id_30', os[5], 'android_others'))\n",
    "test_set = test_set.withColumn('id_30', regexp_replace('id_30', os[6], 'macos_latest'))\n",
    "test_set = test_set.withColumn('id_30', regexp_replace('id_30', os[7], 'macos_others'))\n",
    "os_new = ['windows_latest', 'windows_others', 'ios_latest', 'ios_others', 'android_latest', 'android_others', 'macos_latest', 'macos_others']\n",
    "test_set = test_set.withColumn('id_30', regexp_replace('id_30', '^((?!'+'|'.join(os_new)+').)*$', 'unknown'))\n",
    "\n",
    "# id_31\n",
    "test_set = test_set.withColumn('id_31', regexp_replace('id_31', '.*('+browsers[0]+').*', 'chrome'))\n",
    "test_set = test_set.withColumn('id_31', regexp_replace('id_31', '.*('+browsers[1]+').*', 'firefox'))\n",
    "test_set = test_set.withColumn('id_31', regexp_replace('id_31', '.*('+browsers[2]+').*', 'opera'))\n",
    "test_set = test_set.withColumn('id_31', regexp_replace('id_31', '.*('+browsers[3]+').*', 'edge'))\n",
    "test_set = test_set.withColumn('id_31', regexp_replace('id_31', '.*('+browsers[4]+').*', 'ie'))\n",
    "test_set = test_set.withColumn('id_31', regexp_replace('id_31', '.*('+browsers[5]+').*', 'safari'))\n",
    "test_set = test_set.withColumn('id_31', regexp_replace('id_31', '.*('+browsers[6]+').*', 'unknown'))\n",
    "browser_new = ['chrome','firefox','opera','edge','ie','safari','unknown']\n",
    "test_set = test_set.withColumn('id_31', regexp_replace('id_31', '^((?!'+'|'.join(browser_new)+').)*$', 'others'))\n"
   ]
  },
  {
   "cell_type": "markdown",
   "metadata": {
    "application/vnd.databricks.v1+cell": {
     "inputWidgets": {},
     "nuid": "884bfd06-6cdc-465b-af6c-9986af0f7c31",
     "showTitle": false,
     "title": ""
    }
   },
   "source": [
    "### Exclude columns that are considered \"redundant\" (string columns)"
   ]
  },
  {
   "cell_type": "code",
   "execution_count": 0,
   "metadata": {
    "application/vnd.databricks.v1+cell": {
     "inputWidgets": {},
     "nuid": "297c5243-5ce5-4e4b-8916-2e4a6bbb7f69",
     "showTitle": false,
     "title": ""
    }
   },
   "outputs": [
    {
     "data": {
      "text/html": [
       "<style scoped>\n",
       "  .ansiout {\n",
       "    display: block;\n",
       "    unicode-bidi: embed;\n",
       "    white-space: pre-wrap;\n",
       "    word-wrap: break-word;\n",
       "    word-break: break-all;\n",
       "    font-family: \"Source Code Pro\", \"Menlo\", monospace;;\n",
       "    font-size: 13px;\n",
       "    color: #555;\n",
       "    margin-left: 4px;\n",
       "    line-height: 19px;\n",
       "  }\n",
       "</style>\n",
       "<div class=\"ansiout\"></div>"
      ]
     },
     "metadata": {
      "application/vnd.databricks.v1+output": {
       "addedWidgets": {},
       "arguments": {},
       "data": "<div class=\"ansiout\"></div>",
       "datasetInfos": [],
       "metadata": {},
       "removedWidgets": [],
       "type": "html"
      }
     },
     "output_type": "display_data"
    }
   ],
   "source": [
    "train_set = train_set.select([c for c in train_set.columns if c not in {'id_33','DeviceInfo'}])\n",
    "\n",
    "val_set = val_set.select([c for c in val_set.columns if c not in {'id_33','DeviceInfo'}])\n",
    "\n",
    "test_set = test_set.select([c for c in test_set.columns if c not in {'id_33','DeviceInfo'}])"
   ]
  },
  {
   "cell_type": "markdown",
   "metadata": {
    "application/vnd.databricks.v1+cell": {
     "inputWidgets": {},
     "nuid": "1107d6ca-5082-476d-8009-8891ed57138f",
     "showTitle": false,
     "title": ""
    }
   },
   "source": [
    "### use string indexer to convert categorical data into numerical data"
   ]
  },
  {
   "cell_type": "code",
   "execution_count": 0,
   "metadata": {
    "application/vnd.databricks.v1+cell": {
     "inputWidgets": {},
     "nuid": "df1a8fdd-8d40-45ac-b3e7-7ca977d74fb2",
     "showTitle": false,
     "title": ""
    }
   },
   "outputs": [
    {
     "data": {
      "text/html": [
       "<style scoped>\n",
       "  .ansiout {\n",
       "    display: block;\n",
       "    unicode-bidi: embed;\n",
       "    white-space: pre-wrap;\n",
       "    word-wrap: break-word;\n",
       "    word-break: break-all;\n",
       "    font-family: \"Source Code Pro\", \"Menlo\", monospace;;\n",
       "    font-size: 13px;\n",
       "    color: #555;\n",
       "    margin-left: 4px;\n",
       "    line-height: 19px;\n",
       "  }\n",
       "</style>\n",
       "<div class=\"ansiout\"></div>"
      ]
     },
     "metadata": {
      "application/vnd.databricks.v1+output": {
       "addedWidgets": {},
       "arguments": {},
       "data": "<div class=\"ansiout\"></div>",
       "datasetInfos": [],
       "metadata": {},
       "removedWidgets": [],
       "type": "html"
      }
     },
     "output_type": "display_data"
    }
   ],
   "source": [
    "from pyspark.ml.feature import StringIndexer\n",
    "\n",
    "# remove the excluded columns as they do not exist in dataset anymore\n",
    "del string_cols[string_cols.index('id_33')]\n",
    "del string_cols[string_cols.index('DeviceInfo')]\n",
    "\n",
    "# train dataset\n",
    "# convert the string columns into numerical columns\n",
    "index_cols = [c+'indexed' for c in string_cols]\n",
    "stringIndexer = StringIndexer(inputCols=string_cols, outputCols=index_cols)\n",
    "model = stringIndexer.fit(train_set)\n",
    "result = model.transform(train_set)\n",
    "\n",
    "\n",
    "# validation dataset\n",
    "# convert to numerial columns with the string indexer from train dataset\n",
    "result_val = model.transform(val_set)\n",
    "\n",
    "\n",
    "# test dataset\n",
    "# remove the excluded columns as they do not exist in dataset anymore\n",
    "del string_cols_test[string_cols_test.index('id_33')]\n",
    "del string_cols_test[string_cols_test.index('DeviceInfo')]\n",
    "\n",
    "# convert the string columns into numerical columns\n",
    "index_cols = [c+'indexed' for c in string_cols_test]\n",
    "stringIndexer = StringIndexer(inputCols=string_cols_test, outputCols=index_cols)\n",
    "model = stringIndexer.fit(test_set)\n",
    "result_test = model.transform(test_set)"
   ]
  },
  {
   "cell_type": "markdown",
   "metadata": {
    "application/vnd.databricks.v1+cell": {
     "inputWidgets": {},
     "nuid": "148ad75d-05ea-40e4-ab6d-0cd7e9e0ca95",
     "showTitle": false,
     "title": ""
    }
   },
   "source": [
    "### Exclude columns that are \"redundant\" (all columns)"
   ]
  },
  {
   "cell_type": "code",
   "execution_count": 0,
   "metadata": {
    "application/vnd.databricks.v1+cell": {
     "inputWidgets": {},
     "nuid": "16cbd5c3-8bf1-4419-87f0-c11bea1d8de8",
     "showTitle": false,
     "title": ""
    }
   },
   "outputs": [
    {
     "data": {
      "text/html": [
       "<style scoped>\n",
       "  .ansiout {\n",
       "    display: block;\n",
       "    unicode-bidi: embed;\n",
       "    white-space: pre-wrap;\n",
       "    word-wrap: break-word;\n",
       "    word-break: break-all;\n",
       "    font-family: \"Source Code Pro\", \"Menlo\", monospace;;\n",
       "    font-size: 13px;\n",
       "    color: #555;\n",
       "    margin-left: 4px;\n",
       "    line-height: 19px;\n",
       "  }\n",
       "</style>\n",
       "<div class=\"ansiout\"></div>"
      ]
     },
     "metadata": {
      "application/vnd.databricks.v1+output": {
       "addedWidgets": {},
       "arguments": {},
       "data": "<div class=\"ansiout\"></div>",
       "datasetInfos": [],
       "metadata": {},
       "removedWidgets": [],
       "type": "html"
      }
     },
     "output_type": "display_data"
    }
   ],
   "source": [
    "# we also want to remove isFraud and TransactionID as they do not serve any purpose for our feature extraction\n",
    "train_set = result.select([c for c in result.columns if c not in string_cols+['isFraud']])\n",
    "\n",
    "val_set = result_val.select([c for c in result_val.columns if c not in string_cols+['isFraud', 'TransactionID']])\n",
    "\n",
    "# test dataset\n",
    "test_transactionid = result_test.select(['TransactionID']).rdd.map(lambda x : list(x)[0]).collect() # reserve for submission to Kaggle\n",
    "test_set = result_test.select([c for c in result_test.columns if c not in string_cols+['TransactionID']])"
   ]
  },
  {
   "cell_type": "code",
   "execution_count": 0,
   "metadata": {
    "application/vnd.databricks.v1+cell": {
     "inputWidgets": {},
     "nuid": "e64e4b7a-48f0-4461-af72-3d0fe6dcaf04",
     "showTitle": false,
     "title": ""
    }
   },
   "outputs": [
    {
     "data": {
      "text/html": [
       "<style scoped>\n",
       "  .ansiout {\n",
       "    display: block;\n",
       "    unicode-bidi: embed;\n",
       "    white-space: pre-wrap;\n",
       "    word-wrap: break-word;\n",
       "    word-break: break-all;\n",
       "    font-family: \"Source Code Pro\", \"Menlo\", monospace;;\n",
       "    font-size: 13px;\n",
       "    color: #555;\n",
       "    margin-left: 4px;\n",
       "    line-height: 19px;\n",
       "  }\n",
       "</style>\n",
       "<div class=\"ansiout\"></div>"
      ]
     },
     "metadata": {
      "application/vnd.databricks.v1+output": {
       "addedWidgets": {},
       "arguments": {},
       "data": "<div class=\"ansiout\"></div>",
       "datasetInfos": [],
       "metadata": {},
       "removedWidgets": [],
       "type": "html"
      }
     },
     "output_type": "display_data"
    }
   ],
   "source": [
    "# fill in NaN values\n",
    "train_set = train_set.na.fill(0)\n",
    "\n",
    "val_set = val_set.na.fill(0)\n",
    "\n",
    "test_set = test_set.na.fill(0)"
   ]
  },
  {
   "cell_type": "markdown",
   "metadata": {
    "application/vnd.databricks.v1+cell": {
     "inputWidgets": {},
     "nuid": "a07e7408-df52-4d5b-9ccd-6d4b7ee2e4e4",
     "showTitle": false,
     "title": ""
    }
   },
   "source": [
    "### Assemble dataframe and normalize for PCA"
   ]
  },
  {
   "cell_type": "code",
   "execution_count": 0,
   "metadata": {
    "application/vnd.databricks.v1+cell": {
     "inputWidgets": {},
     "nuid": "6e06b030-2940-41cb-a763-96aae9b195d4",
     "showTitle": false,
     "title": ""
    }
   },
   "outputs": [
    {
     "data": {
      "text/html": [
       "<style scoped>\n",
       "  .ansiout {\n",
       "    display: block;\n",
       "    unicode-bidi: embed;\n",
       "    white-space: pre-wrap;\n",
       "    word-wrap: break-word;\n",
       "    word-break: break-all;\n",
       "    font-family: \"Source Code Pro\", \"Menlo\", monospace;;\n",
       "    font-size: 13px;\n",
       "    color: #555;\n",
       "    margin-left: 4px;\n",
       "    line-height: 19px;\n",
       "  }\n",
       "</style>\n",
       "<div class=\"ansiout\"></div>"
      ]
     },
     "metadata": {
      "application/vnd.databricks.v1+output": {
       "addedWidgets": {},
       "arguments": {},
       "data": "<div class=\"ansiout\"></div>",
       "datasetInfos": [],
       "metadata": {},
       "removedWidgets": [],
       "type": "html"
      }
     },
     "output_type": "display_data"
    }
   ],
   "source": [
    "from pyspark.ml.feature import VectorAssembler\n",
    "\n",
    "# prepare the assembler model\n",
    "cols = train_set.columns\n",
    "del cols[cols.index(\"TransactionID\")]\n",
    "assemble = VectorAssembler(inputCols=cols, outputCol='features')\n",
    "\n",
    "# train dataset\n",
    "assembled_data_train = assemble.transform(train_set).select(['features', 'TransactionID'])\n",
    "\n",
    "# validation dataset\n",
    "assembled_data_val = assemble.transform(val_set).select(['features'])\n",
    "\n",
    "# test dataset\n",
    "assembled_data_test = assemble.transform(test_set).select(['features'])"
   ]
  },
  {
   "cell_type": "markdown",
   "metadata": {
    "application/vnd.databricks.v1+cell": {
     "inputWidgets": {},
     "nuid": "6ba49dc4-6c5f-473f-a0d6-66ff3b4b1509",
     "showTitle": false,
     "title": ""
    }
   },
   "source": [
    "### Reserve half of the train dataset for phase 2"
   ]
  },
  {
   "cell_type": "code",
   "execution_count": 0,
   "metadata": {
    "application/vnd.databricks.v1+cell": {
     "inputWidgets": {},
     "nuid": "4f389b68-9d06-49c9-a686-9b58d374402d",
     "showTitle": false,
     "title": ""
    }
   },
   "outputs": [
    {
     "data": {
      "text/html": [
       "<style scoped>\n",
       "  .ansiout {\n",
       "    display: block;\n",
       "    unicode-bidi: embed;\n",
       "    white-space: pre-wrap;\n",
       "    word-wrap: break-word;\n",
       "    word-break: break-all;\n",
       "    font-family: \"Source Code Pro\", \"Menlo\", monospace;;\n",
       "    font-size: 13px;\n",
       "    color: #555;\n",
       "    margin-left: 4px;\n",
       "    line-height: 19px;\n",
       "  }\n",
       "</style>\n",
       "<div class=\"ansiout\"></div>"
      ]
     },
     "metadata": {
      "application/vnd.databricks.v1+output": {
       "addedWidgets": {},
       "arguments": {},
       "data": "<div class=\"ansiout\"></div>",
       "datasetInfos": [],
       "metadata": {},
       "removedWidgets": [],
       "type": "html"
      }
     },
     "output_type": "display_data"
    }
   ],
   "source": [
    "assembled_data_train, reserved = assembled_data_train.randomSplit([0.5,0.5])"
   ]
  },
  {
   "cell_type": "markdown",
   "metadata": {
    "application/vnd.databricks.v1+cell": {
     "inputWidgets": {},
     "nuid": "e02bf052-8cc3-4d3e-934d-e1682f39e609",
     "showTitle": false,
     "title": ""
    }
   },
   "source": [
    "# PCA"
   ]
  },
  {
   "cell_type": "markdown",
   "metadata": {
    "application/vnd.databricks.v1+cell": {
     "inputWidgets": {},
     "nuid": "f22271ac-f737-4532-b2b6-2d7504588090",
     "showTitle": false,
     "title": ""
    }
   },
   "source": [
    "###PCA Process"
   ]
  },
  {
   "cell_type": "code",
   "execution_count": 0,
   "metadata": {
    "application/vnd.databricks.v1+cell": {
     "inputWidgets": {},
     "nuid": "db47b76b-9695-4721-8aec-e6d3f3bdba65",
     "showTitle": false,
     "title": ""
    }
   },
   "outputs": [
    {
     "data": {
      "text/html": [
       "<style scoped>\n",
       "  .ansiout {\n",
       "    display: block;\n",
       "    unicode-bidi: embed;\n",
       "    white-space: pre-wrap;\n",
       "    word-wrap: break-word;\n",
       "    word-break: break-all;\n",
       "    font-family: \"Source Code Pro\", \"Menlo\", monospace;;\n",
       "    font-size: 13px;\n",
       "    color: #555;\n",
       "    margin-left: 4px;\n",
       "    line-height: 19px;\n",
       "  }\n",
       "</style>\n",
       "<div class=\"ansiout\"></div>"
      ]
     },
     "metadata": {
      "application/vnd.databricks.v1+output": {
       "addedWidgets": {},
       "arguments": {},
       "data": "<div class=\"ansiout\"></div>",
       "datasetInfos": [],
       "metadata": {},
       "removedWidgets": [],
       "type": "html"
      }
     },
     "output_type": "display_data"
    }
   ],
   "source": [
    "pca = PCA(k=3, inputCol=\"features\", outputCol=\"pca_features\") # first 3 dimensions has cummulative variance of ~99.8%\n",
    "\n",
    "# train dataset\n",
    "model = pca.fit(assembled_data_train)\n",
    "pca_features_train = model.transform(assembled_data_train).select([\"pca_features\", \"TransactionID\"])\n",
    "pca_features_reserved = model.transform(reserved).select([\"pca_features\", \"TransactionID\"])\n",
    "\n",
    "# val dataset\n",
    "pca_features_val = model.transform(assembled_data_val).select(\"pca_features\")\n",
    "\n",
    "# test\n",
    "# fitting the test datast using PCs from train set\n",
    "pca_features_test = model.transform(assembled_data_test).select(\"pca_features\") "
   ]
  },
  {
   "cell_type": "markdown",
   "metadata": {
    "application/vnd.databricks.v1+cell": {
     "inputWidgets": {},
     "nuid": "b6f7327c-d0f9-45c6-9d79-48ffbd95aa4b",
     "showTitle": false,
     "title": ""
    }
   },
   "source": [
    "### Normalize PCA output"
   ]
  },
  {
   "cell_type": "code",
   "execution_count": 0,
   "metadata": {
    "application/vnd.databricks.v1+cell": {
     "inputWidgets": {},
     "nuid": "ba528cc7-31f5-401b-bf02-4e0562ad2542",
     "showTitle": false,
     "title": ""
    }
   },
   "outputs": [
    {
     "data": {
      "text/html": [
       "<style scoped>\n",
       "  .ansiout {\n",
       "    display: block;\n",
       "    unicode-bidi: embed;\n",
       "    white-space: pre-wrap;\n",
       "    word-wrap: break-word;\n",
       "    word-break: break-all;\n",
       "    font-family: \"Source Code Pro\", \"Menlo\", monospace;;\n",
       "    font-size: 13px;\n",
       "    color: #555;\n",
       "    margin-left: 4px;\n",
       "    line-height: 19px;\n",
       "  }\n",
       "</style>\n",
       "<div class=\"ansiout\"></div>"
      ]
     },
     "metadata": {
      "application/vnd.databricks.v1+output": {
       "addedWidgets": {},
       "arguments": {},
       "data": "<div class=\"ansiout\"></div>",
       "datasetInfos": [],
       "metadata": {},
       "removedWidgets": [],
       "type": "html"
      }
     },
     "output_type": "display_data"
    }
   ],
   "source": [
    "from pyspark.ml.feature import StandardScaler, RobustScaler\n",
    "\n",
    "# train dataset\n",
    "scaler = RobustScaler(inputCol=\"pca_features\", outputCol=\"scaledFeatures\")\n",
    "scalerModel = scaler.fit(pca_features_train)\n",
    "scaled_data_train = scalerModel.transform(pca_features_train)\n",
    "\n",
    "scale = StandardScaler(inputCol='scaledFeatures', outputCol='standardized')\n",
    "data_scale = scale.fit(scaled_data_train)\n",
    "data_scale_output_train = data_scale.transform(scaled_data_train).select(['standardized', 'TransactionID'])\n",
    "\n",
    "scaled_data_reserved = scalerModel.transform(pca_features_reserved)\n",
    "data_scale_output_reserve = data_scale.transform(scaled_data_reserved).select(['standardized', 'TransactionID'])\n",
    "\n",
    "# validation dataset\n",
    "scaled_data_val = scalerModel.transform(pca_features_val)\n",
    "data_scale_output_val = data_scale.transform(scaled_data_val).select(['standardized'])\n",
    "\n",
    "# test dataset\n",
    "scaled_data_test = scalerModel.transform(pca_features_test)\n",
    "data_scale_output_test = data_scale.transform(scaled_data_test).select(['standardized'])"
   ]
  },
  {
   "cell_type": "markdown",
   "metadata": {
    "application/vnd.databricks.v1+cell": {
     "inputWidgets": {},
     "nuid": "7d6f9dff-1a3a-49f4-8d69-59b1fd66819e",
     "showTitle": false,
     "title": ""
    }
   },
   "source": [
    "# k-Nearest Neighbours"
   ]
  },
  {
   "cell_type": "code",
   "execution_count": 0,
   "metadata": {
    "application/vnd.databricks.v1+cell": {
     "inputWidgets": {},
     "nuid": "b6a1e221-66ad-438e-81d5-c703cdbb127e",
     "showTitle": false,
     "title": ""
    }
   },
   "outputs": [
    {
     "data": {
      "text/html": [
       "<style scoped>\n",
       "  .ansiout {\n",
       "    display: block;\n",
       "    unicode-bidi: embed;\n",
       "    white-space: pre-wrap;\n",
       "    word-wrap: break-word;\n",
       "    word-break: break-all;\n",
       "    font-family: \"Source Code Pro\", \"Menlo\", monospace;;\n",
       "    font-size: 13px;\n",
       "    color: #555;\n",
       "    margin-left: 4px;\n",
       "    line-height: 19px;\n",
       "  }\n",
       "</style>\n",
       "<div class=\"ansiout\"></div>"
      ]
     },
     "metadata": {
      "application/vnd.databricks.v1+output": {
       "addedWidgets": {},
       "arguments": {},
       "data": "<div class=\"ansiout\"></div>",
       "datasetInfos": [],
       "metadata": {},
       "removedWidgets": [],
       "type": "html"
      }
     },
     "output_type": "display_data"
    }
   ],
   "source": [
    "model_instances_rdd = data_scale_output_train.rdd.map(lambda x : (np.array(x[0]), x[1]))\n",
    "model_instances_only = model_instances_rdd.map(lambda x : x[0])\n",
    "\n",
    "# broadcast the model\n",
    "model_instances = sc.broadcast(model_instances_rdd.collect())\n",
    "model_instances_only = sc.broadcast(model_instances_only.collect()) # additionally broadcast the model instances only (without the id) for calculating distance between it and the incoming reserved fraudulent instances"
   ]
  },
  {
   "cell_type": "markdown",
   "metadata": {
    "application/vnd.databricks.v1+cell": {
     "inputWidgets": {},
     "nuid": "8451dc68-36e5-4ab1-a079-64400d6a71c8",
     "showTitle": false,
     "title": ""
    }
   },
   "source": [
    "# Phase 2"
   ]
  },
  {
   "cell_type": "markdown",
   "metadata": {
    "application/vnd.databricks.v1+cell": {
     "inputWidgets": {},
     "nuid": "2cdb06ad-1a49-4d7e-b1f1-238afef58068",
     "showTitle": false,
     "title": ""
    }
   },
   "source": [
    "1. The reserved instances are used here to improve the model. The reserved instances are split into batches\n",
    "2. For each new instance in each batch of size B, assign a radius r, and all model instances that fall within radius of the new instance are merged with the new instance (by taking the mean instance of all the instances)\n",
    "3. The merged instance is then added to the model, and the model instances that are merged are removed from the model"
   ]
  },
  {
   "cell_type": "code",
   "execution_count": 0,
   "metadata": {
    "application/vnd.databricks.v1+cell": {
     "inputWidgets": {},
     "nuid": "f1edc94e-4f19-463f-8c03-73a1a645c54f",
     "showTitle": false,
     "title": ""
    }
   },
   "outputs": [
    {
     "data": {
      "text/html": [
       "<style scoped>\n",
       "  .ansiout {\n",
       "    display: block;\n",
       "    unicode-bidi: embed;\n",
       "    white-space: pre-wrap;\n",
       "    word-wrap: break-word;\n",
       "    word-break: break-all;\n",
       "    font-family: \"Source Code Pro\", \"Menlo\", monospace;;\n",
       "    font-size: 13px;\n",
       "    color: #555;\n",
       "    margin-left: 4px;\n",
       "    line-height: 19px;\n",
       "  }\n",
       "</style>\n",
       "<div class=\"ansiout\">0 / 10145\n",
       "50 / 10145\n",
       "100 / 10145\n",
       "150 / 10145\n",
       "200 / 10145\n",
       "250 / 10145\n",
       "300 / 10145\n",
       "350 / 10145\n",
       "400 / 10145\n",
       "450 / 10145\n",
       "500 / 10145\n",
       "550 / 10145\n",
       "600 / 10145\n",
       "650 / 10145\n",
       "700 / 10145\n",
       "750 / 10145\n",
       "800 / 10145\n",
       "850 / 10145\n",
       "900 / 10145\n",
       "950 / 10145\n",
       "1000 / 10145\n",
       "1050 / 10145\n",
       "1100 / 10145\n",
       "1150 / 10145\n",
       "1200 / 10145\n",
       "1250 / 10145\n",
       "1300 / 10145\n",
       "1350 / 10145\n",
       "1400 / 10145\n",
       "1450 / 10145\n",
       "1500 / 10145\n",
       "1550 / 10145\n",
       "1600 / 10145\n",
       "1650 / 10145\n",
       "1700 / 10145\n",
       "1750 / 10145\n",
       "1800 / 10145\n",
       "1850 / 10145\n",
       "1900 / 10145\n",
       "1950 / 10145\n",
       "2000 / 10145\n",
       "2050 / 10145\n",
       "2100 / 10145\n",
       "2150 / 10145\n",
       "2200 / 10145\n",
       "2250 / 10145\n",
       "2300 / 10145\n",
       "2350 / 10145\n",
       "2400 / 10145\n",
       "2450 / 10145\n",
       "2500 / 10145\n",
       "2550 / 10145\n",
       "2600 / 10145\n",
       "2650 / 10145\n",
       "2700 / 10145\n",
       "2750 / 10145\n",
       "2800 / 10145\n",
       "2850 / 10145\n",
       "2900 / 10145\n",
       "2950 / 10145\n",
       "3000 / 10145\n",
       "3050 / 10145\n",
       "3100 / 10145\n",
       "3150 / 10145\n",
       "3200 / 10145\n",
       "3250 / 10145\n",
       "3300 / 10145\n",
       "3350 / 10145\n",
       "3400 / 10145\n",
       "3450 / 10145\n",
       "3500 / 10145\n",
       "3550 / 10145\n",
       "3600 / 10145\n",
       "3650 / 10145\n",
       "3700 / 10145\n",
       "3750 / 10145\n",
       "3800 / 10145\n",
       "3850 / 10145\n",
       "3900 / 10145\n",
       "3950 / 10145\n",
       "4000 / 10145\n",
       "4050 / 10145\n",
       "4100 / 10145\n",
       "4150 / 10145\n",
       "4200 / 10145\n",
       "4250 / 10145\n",
       "4300 / 10145\n",
       "4350 / 10145\n",
       "4400 / 10145\n",
       "4450 / 10145\n",
       "4500 / 10145\n",
       "4550 / 10145\n",
       "4600 / 10145\n",
       "4650 / 10145\n",
       "4700 / 10145\n",
       "4750 / 10145\n",
       "4800 / 10145\n",
       "4850 / 10145\n",
       "4900 / 10145\n",
       "4950 / 10145\n",
       "5000 / 10145\n",
       "5050 / 10145\n",
       "5100 / 10145\n",
       "5150 / 10145\n",
       "5200 / 10145\n",
       "5250 / 10145\n",
       "5300 / 10145\n",
       "5350 / 10145\n",
       "5400 / 10145\n",
       "5450 / 10145\n",
       "5500 / 10145\n",
       "5550 / 10145\n",
       "5600 / 10145\n",
       "5650 / 10145\n",
       "5700 / 10145\n",
       "5750 / 10145\n",
       "5800 / 10145\n",
       "5850 / 10145\n",
       "5900 / 10145\n",
       "5950 / 10145\n",
       "6000 / 10145\n",
       "6050 / 10145\n",
       "6100 / 10145\n",
       "6150 / 10145\n",
       "6200 / 10145\n",
       "6250 / 10145\n",
       "6300 / 10145\n",
       "6350 / 10145\n",
       "6400 / 10145\n",
       "6450 / 10145\n",
       "6500 / 10145\n",
       "6550 / 10145\n",
       "6600 / 10145\n",
       "6650 / 10145\n",
       "6700 / 10145\n",
       "6750 / 10145\n",
       "6800 / 10145\n",
       "6850 / 10145\n",
       "6900 / 10145\n",
       "6950 / 10145\n",
       "7000 / 10145\n",
       "7050 / 10145\n",
       "7100 / 10145\n",
       "7150 / 10145\n",
       "7200 / 10145\n",
       "7250 / 10145\n",
       "7300 / 10145\n",
       "7350 / 10145\n",
       "7400 / 10145\n",
       "7450 / 10145\n",
       "7500 / 10145\n",
       "7550 / 10145\n",
       "7600 / 10145\n",
       "7650 / 10145\n",
       "7700 / 10145\n",
       "7750 / 10145\n",
       "7800 / 10145\n",
       "7850 / 10145\n",
       "7900 / 10145\n",
       "7950 / 10145\n",
       "8000 / 10145\n",
       "8050 / 10145\n",
       "8100 / 10145\n",
       "8150 / 10145\n",
       "8200 / 10145\n",
       "8250 / 10145\n",
       "8300 / 10145\n",
       "8350 / 10145\n",
       "8400 / 10145\n",
       "8450 / 10145\n",
       "8500 / 10145\n",
       "8550 / 10145\n",
       "8600 / 10145\n",
       "8650 / 10145\n",
       "8700 / 10145\n",
       "8750 / 10145\n",
       "8800 / 10145\n",
       "8850 / 10145\n",
       "8900 / 10145\n",
       "8950 / 10145\n",
       "9000 / 10145\n",
       "9050 / 10145\n",
       "9100 / 10145\n",
       "9150 / 10145\n",
       "9200 / 10145\n",
       "9250 / 10145\n",
       "9300 / 10145\n",
       "9350 / 10145\n",
       "9400 / 10145\n",
       "9450 / 10145\n",
       "9500 / 10145\n",
       "9550 / 10145\n",
       "9600 / 10145\n",
       "9650 / 10145\n",
       "9700 / 10145\n",
       "9750 / 10145\n",
       "9800 / 10145\n",
       "9850 / 10145\n",
       "9900 / 10145\n",
       "9950 / 10145\n",
       "10000 / 10145\n",
       "10050 / 10145\n",
       "10100 / 10145\n",
       "</div>"
      ]
     },
     "metadata": {
      "application/vnd.databricks.v1+output": {
       "addedWidgets": {},
       "arguments": {},
       "data": "<div class=\"ansiout\">0 / 10145\n50 / 10145\n100 / 10145\n150 / 10145\n200 / 10145\n250 / 10145\n300 / 10145\n350 / 10145\n400 / 10145\n450 / 10145\n500 / 10145\n550 / 10145\n600 / 10145\n650 / 10145\n700 / 10145\n750 / 10145\n800 / 10145\n850 / 10145\n900 / 10145\n950 / 10145\n1000 / 10145\n1050 / 10145\n1100 / 10145\n1150 / 10145\n1200 / 10145\n1250 / 10145\n1300 / 10145\n1350 / 10145\n1400 / 10145\n1450 / 10145\n1500 / 10145\n1550 / 10145\n1600 / 10145\n1650 / 10145\n1700 / 10145\n1750 / 10145\n1800 / 10145\n1850 / 10145\n1900 / 10145\n1950 / 10145\n2000 / 10145\n2050 / 10145\n2100 / 10145\n2150 / 10145\n2200 / 10145\n2250 / 10145\n2300 / 10145\n2350 / 10145\n2400 / 10145\n2450 / 10145\n2500 / 10145\n2550 / 10145\n2600 / 10145\n2650 / 10145\n2700 / 10145\n2750 / 10145\n2800 / 10145\n2850 / 10145\n2900 / 10145\n2950 / 10145\n3000 / 10145\n3050 / 10145\n3100 / 10145\n3150 / 10145\n3200 / 10145\n3250 / 10145\n3300 / 10145\n3350 / 10145\n3400 / 10145\n3450 / 10145\n3500 / 10145\n3550 / 10145\n3600 / 10145\n3650 / 10145\n3700 / 10145\n3750 / 10145\n3800 / 10145\n3850 / 10145\n3900 / 10145\n3950 / 10145\n4000 / 10145\n4050 / 10145\n4100 / 10145\n4150 / 10145\n4200 / 10145\n4250 / 10145\n4300 / 10145\n4350 / 10145\n4400 / 10145\n4450 / 10145\n4500 / 10145\n4550 / 10145\n4600 / 10145\n4650 / 10145\n4700 / 10145\n4750 / 10145\n4800 / 10145\n4850 / 10145\n4900 / 10145\n4950 / 10145\n5000 / 10145\n5050 / 10145\n5100 / 10145\n5150 / 10145\n5200 / 10145\n5250 / 10145\n5300 / 10145\n5350 / 10145\n5400 / 10145\n5450 / 10145\n5500 / 10145\n5550 / 10145\n5600 / 10145\n5650 / 10145\n5700 / 10145\n5750 / 10145\n5800 / 10145\n5850 / 10145\n5900 / 10145\n5950 / 10145\n6000 / 10145\n6050 / 10145\n6100 / 10145\n6150 / 10145\n6200 / 10145\n6250 / 10145\n6300 / 10145\n6350 / 10145\n6400 / 10145\n6450 / 10145\n6500 / 10145\n6550 / 10145\n6600 / 10145\n6650 / 10145\n6700 / 10145\n6750 / 10145\n6800 / 10145\n6850 / 10145\n6900 / 10145\n6950 / 10145\n7000 / 10145\n7050 / 10145\n7100 / 10145\n7150 / 10145\n7200 / 10145\n7250 / 10145\n7300 / 10145\n7350 / 10145\n7400 / 10145\n7450 / 10145\n7500 / 10145\n7550 / 10145\n7600 / 10145\n7650 / 10145\n7700 / 10145\n7750 / 10145\n7800 / 10145\n7850 / 10145\n7900 / 10145\n7950 / 10145\n8000 / 10145\n8050 / 10145\n8100 / 10145\n8150 / 10145\n8200 / 10145\n8250 / 10145\n8300 / 10145\n8350 / 10145\n8400 / 10145\n8450 / 10145\n8500 / 10145\n8550 / 10145\n8600 / 10145\n8650 / 10145\n8700 / 10145\n8750 / 10145\n8800 / 10145\n8850 / 10145\n8900 / 10145\n8950 / 10145\n9000 / 10145\n9050 / 10145\n9100 / 10145\n9150 / 10145\n9200 / 10145\n9250 / 10145\n9300 / 10145\n9350 / 10145\n9400 / 10145\n9450 / 10145\n9500 / 10145\n9550 / 10145\n9600 / 10145\n9650 / 10145\n9700 / 10145\n9750 / 10145\n9800 / 10145\n9850 / 10145\n9900 / 10145\n9950 / 10145\n10000 / 10145\n10050 / 10145\n10100 / 10145\n</div>",
       "datasetInfos": [],
       "metadata": {},
       "removedWidgets": [],
       "type": "html"
      }
     },
     "output_type": "display_data"
    }
   ],
   "source": [
    "def calc_dist_instances(x):\n",
    "  # calculate and return the euclidean distance\n",
    "  dist = np.sum((model_instances_only.value - x[0])**2, axis=1) ** 0.5\n",
    "  return (*x, dist) # (instance, ID, array_of_dist)\n",
    "\n",
    "\n",
    "def group_neighbouring_instances(x):\n",
    "  # group instances that are within radius of the new instance\n",
    "  neighbouring_instances = [d<=radius for d in x[-1]]\n",
    "  overlapped_instances = [(x[1],(*v,1)) for i,v in enumerate(model_instances.value) if neighbouring_instances[i]]\n",
    "  # include the new instance itself (for merging later)\n",
    "  combined = [(x[1], (x[0], x[1], 1))] + overlapped_instances\n",
    "  return combined # list of instances, each instance (ID_x, (instance, ID_model, 1))\n",
    "\n",
    "\n",
    "\n",
    "\n",
    "\n",
    "# assign radius for each new instance\n",
    "radius = 0.02\n",
    "\n",
    "# collect the reserved instances into drive as we want to split them by batches\n",
    "res = data_scale_output_reserve.rdd.map(lambda x : (np.array(x[0]), x[1])).collect()\n",
    "\n",
    "batch_size = 50\n",
    "\n",
    "batch_num = 1\n",
    "for i in range(0, len(res), batch_size):\n",
    "  print(i, \"/\", len(res))\n",
    "  \n",
    "  # retrieve the batch of instances and convert to rdd\n",
    "  batch = res[i:i+batch_size]\n",
    "  batch = sc.parallelize(batch) # (I, id)\n",
    "  \n",
    "  # calculate distance between a new instance and all model instances\n",
    "  batch = batch.map(lambda x : calc_dist_instances(x)) # (I, id, [dist])\n",
    "  \n",
    "  # retrieve model instances to be grouped with the new instance\n",
    "  grouped_instances = batch.flatMap(lambda x : group_neighbouring_instances(x)) # (id, (I, id_m, 1)), (includes itself)\n",
    "  \n",
    "  # mark model instances to be removed\n",
    "  remove_id = grouped_instances.map(lambda x : x[1][1])\n",
    "  instances_to_remove = set(remove_id.collect())\n",
    "  \n",
    "  # merge the grouped instances\n",
    "  merged = grouped_instances.reduceByKey(lambda x,y : x+y) # (id, (combined_I, _, num_instances))\n",
    "  updated_instances = merged.map(lambda x : (x[1][0]/x[1][2], x[0])).collect() # (I, id)\n",
    "  \n",
    "  # update the model and broadcast it\n",
    "  updated_model = [instance for instance in model_instances.value if instance[1] not in instances_to_remove] + updated_instances\n",
    "  updated_model_instance_only = [instance[0] for instance in updated_model]\n",
    "  \n",
    "#   # log model size\n",
    "#   num_model_instances.append(len(updated_model))\n",
    "  \n",
    "  # broadcast the model\n",
    "  model_instances = sc.broadcast(updated_model)\n",
    "  model_instances_only = sc.broadcast(updated_model_instance_only)\n",
    "  "
   ]
  },
  {
   "cell_type": "code",
   "execution_count": 0,
   "metadata": {
    "application/vnd.databricks.v1+cell": {
     "inputWidgets": {},
     "nuid": "ef8b8564-7e8b-4e0c-a0a7-b4e0846ed94b",
     "showTitle": false,
     "title": ""
    }
   },
   "outputs": [
    {
     "data": {
      "text/html": [
       "<style scoped>\n",
       "  .ansiout {\n",
       "    display: block;\n",
       "    unicode-bidi: embed;\n",
       "    white-space: pre-wrap;\n",
       "    word-wrap: break-word;\n",
       "    word-break: break-all;\n",
       "    font-family: \"Source Code Pro\", \"Menlo\", monospace;;\n",
       "    font-size: 13px;\n",
       "    color: #555;\n",
       "    margin-left: 4px;\n",
       "    line-height: 19px;\n",
       "  }\n",
       "</style>\n",
       "<div class=\"ansiout\">Out[21]: 5922</div>"
      ]
     },
     "metadata": {
      "application/vnd.databricks.v1+output": {
       "addedWidgets": {},
       "arguments": {},
       "data": "<div class=\"ansiout\">Out[21]: 5922</div>",
       "datasetInfos": [],
       "metadata": {},
       "removedWidgets": [],
       "type": "html"
      }
     },
     "output_type": "display_data"
    }
   ],
   "source": [
    "# get model size\n",
    "\n",
    "len(model_instances.value)"
   ]
  },
  {
   "cell_type": "markdown",
   "metadata": {
    "application/vnd.databricks.v1+cell": {
     "inputWidgets": {},
     "nuid": "a4bc4256-a175-41ad-9bc0-0f420d7391bf",
     "showTitle": false,
     "title": ""
    }
   },
   "source": [
    "# Classify test instances"
   ]
  },
  {
   "cell_type": "markdown",
   "metadata": {
    "application/vnd.databricks.v1+cell": {
     "inputWidgets": {},
     "nuid": "e1b6f5a9-7fa7-42ef-acea-23ad09a8524e",
     "showTitle": false,
     "title": ""
    }
   },
   "source": [
    "1. A radius and the number of neighbours to consider are set to threshold the max distance a neighbour can be to an incoming instance, and the number of model instances to classify with 100% confidence the incoming instance is fraudulent, respectively\n",
    "2. Each model instance's radius to the incoming instance is calculated, and the number of model instance within radius is counted\n",
    "3. This is then divided by k to obtain the confidence score for the incoming instance being a fraudulent transaction\n",
    "4. Additionally, a confidence threshold is set such that all incoming instances that has a confidence score larger than the threshold is considered as fraudulent, and everything below it is non-fraudulent"
   ]
  },
  {
   "cell_type": "markdown",
   "metadata": {
    "application/vnd.databricks.v1+cell": {
     "inputWidgets": {},
     "nuid": "a3ca19f2-d045-4d6b-9825-ffbfc03d7cd5",
     "showTitle": false,
     "title": ""
    }
   },
   "source": [
    "### Validation set"
   ]
  },
  {
   "cell_type": "code",
   "execution_count": 0,
   "metadata": {
    "application/vnd.databricks.v1+cell": {
     "inputWidgets": {},
     "nuid": "411ba32a-afad-4df1-ba69-7cd39a813f00",
     "showTitle": false,
     "title": ""
    }
   },
   "outputs": [
    {
     "data": {
      "text/html": [
       "<style scoped>\n",
       "  .ansiout {\n",
       "    display: block;\n",
       "    unicode-bidi: embed;\n",
       "    white-space: pre-wrap;\n",
       "    word-wrap: break-word;\n",
       "    word-break: break-all;\n",
       "    font-family: \"Source Code Pro\", \"Menlo\", monospace;;\n",
       "    font-size: 13px;\n",
       "    color: #555;\n",
       "    margin-left: 4px;\n",
       "    line-height: 19px;\n",
       "  }\n",
       "</style>\n",
       "<div class=\"ansiout\">65.81371545547596 %\n",
       "</div>"
      ]
     },
     "metadata": {
      "application/vnd.databricks.v1+output": {
       "addedWidgets": {},
       "arguments": {},
       "data": "<div class=\"ansiout\">65.81371545547596 %\n</div>",
       "datasetInfos": [],
       "metadata": {},
       "removedWidgets": [],
       "type": "html"
      }
     },
     "output_type": "display_data"
    }
   ],
   "source": [
    "def calc_dist_instances(x):\n",
    "  # calculate and return the euclidean distance\n",
    "  dist = np.sum((model_instances_only.value - x[0])**2, axis=1) ** 0.5\n",
    "  return (*x, dist) # (instance, array_of_dist)\n",
    "\n",
    "\n",
    "def predict_instance(x):\n",
    "  # Group instances that are within radius of the new instance\n",
    "  num_neighbouring_instances = sum([d<=radius for d in x[-1]])\n",
    "  if num_neighbouring_instances / k > threshold:\n",
    "    # more than 50% \"confident\" that this is a fraudulent transaction\n",
    "    return 1\n",
    "  return 0\n",
    "\n",
    "\n",
    "\n",
    "\n",
    "# convert the validation test instances to rdd\n",
    "val_instances = data_scale_output_val.select(['standardized']).rdd.map(lambda x : np.array(x[0]))\n",
    "\n",
    "k = 5           # set k value for k-NN\n",
    "threshold = 0.5 # threshold for classifying test instances as fraudulent or not, [0, 1]\n",
    "radius = 0.08   # assign radius for each new instance\n",
    "\n",
    "# calculate distance between a new instance and all model instances\n",
    "val_instances = val_instances.map(lambda x : calc_dist_instances(x)) # (I, [dist])\n",
    "\n",
    "# assign prediction\n",
    "predictions = val_instances.map(lambda x : predict_instance(x)).collect()\n",
    "\n",
    "# invert predictions to determine the performance of the approach\n",
    "predictions = [0 if i == 1 else 1 for i in predictions]\n",
    "\n",
    "score = [a==b for a,b in zip(gt, predictions)]\n",
    "print(sum(score)/len(gt)*100, \"%\")"
   ]
  },
  {
   "cell_type": "markdown",
   "metadata": {
    "application/vnd.databricks.v1+cell": {
     "inputWidgets": {},
     "nuid": "6ecc6c06-b217-4f68-ac1f-e1b84174fc06",
     "showTitle": false,
     "title": ""
    }
   },
   "source": [
    "###Test set"
   ]
  },
  {
   "cell_type": "code",
   "execution_count": 0,
   "metadata": {
    "application/vnd.databricks.v1+cell": {
     "inputWidgets": {},
     "nuid": "3b7471b4-5c1e-4d0c-9d9c-9de0323c7cf1",
     "showTitle": false,
     "title": ""
    }
   },
   "outputs": [
    {
     "data": {
      "text/html": [
       "<style scoped>\n",
       "  .ansiout {\n",
       "    display: block;\n",
       "    unicode-bidi: embed;\n",
       "    white-space: pre-wrap;\n",
       "    word-wrap: break-word;\n",
       "    word-break: break-all;\n",
       "    font-family: \"Source Code Pro\", \"Menlo\", monospace;;\n",
       "    font-size: 13px;\n",
       "    color: #555;\n",
       "    margin-left: 4px;\n",
       "    line-height: 19px;\n",
       "  }\n",
       "</style>\n",
       "<div class=\"ansiout\">Test prediction time: 499.6267533302307\n",
       "</div>"
      ]
     },
     "metadata": {
      "application/vnd.databricks.v1+output": {
       "addedWidgets": {},
       "arguments": {},
       "data": "<div class=\"ansiout\">Test prediction time: 499.6267533302307\n</div>",
       "datasetInfos": [],
       "metadata": {},
       "removedWidgets": [],
       "type": "html"
      }
     },
     "output_type": "display_data"
    }
   ],
   "source": [
    "def calc_dist_instances(x):\n",
    "  # calculate and return the euclidean distance\n",
    "  dist = np.sum((model_instances_only.value - x[0])**2, axis=1) ** 0.5\n",
    "  return (*x, dist) # (instance, array_of_dist)\n",
    "\n",
    "\n",
    "def predict_instance(x):\n",
    "  # Group instances that are within radius of the new instance\n",
    "  num_neighbouring_instances = sum([d<=radius for d in x[-1]])\n",
    "  # return the \"confidence\" score, caps at 1.0\n",
    "  return min(num_neighbouring_instances / k, 1.)\n",
    "#   # return the hard classification\n",
    "#   return int(min(num_neighbouring_instances / k, 1.) > threshold)\n",
    "\n",
    "\n",
    "# convert the validation test instances to rdd\n",
    "test_instances = data_scale_output_test.select(['standardized']).rdd.map(lambda x : np.array(x[0]))\n",
    "\n",
    "k = 5           # set k value for k-NN\n",
    "radius = 0.08   # assign radius for each new instance\n",
    "threshold = 0.5 # threshold for classifying test instances as fraudulent or not\n",
    "\n",
    "# log prediction time for validation dataset\n",
    "test_prediction_time = time.time()\n",
    "\n",
    "# calculate distance between a new instance and all model instances\n",
    "test_instances = test_instances.map(lambda x : calc_dist_instances(x)) # (I, [dist])\n",
    "\n",
    "# assign prediction\n",
    "predictions = test_instances.map(lambda x : predict_instance(x)).collect()\n",
    "\n",
    "predictions = [0 if i == 1 else 1 for i in predictions]\n",
    "\n",
    "print(\"Test prediction time:\", time.time()-test_prediction_time)\n",
    "\n",
    "# create a new dataframe to upload to Kaggle for AUROC score\n",
    "submission = pd.DataFrame({'TransactionID': test_transactionid, 'isFraud': predictions})\n"
   ]
  },
  {
   "cell_type": "code",
   "execution_count": 0,
   "metadata": {
    "application/vnd.databricks.v1+cell": {
     "inputWidgets": {},
     "nuid": "1ddc6e1f-3449-40ef-8d2e-409f9de666a2",
     "showTitle": false,
     "title": ""
    }
   },
   "outputs": [
    {
     "data": {
      "text/html": [
       "<style scoped>\n",
       "  .table-result-container {\n",
       "    max-height: 300px;\n",
       "    overflow: auto;\n",
       "  }\n",
       "  table, th, td {\n",
       "    border: 1px solid black;\n",
       "    border-collapse: collapse;\n",
       "  }\n",
       "  th, td {\n",
       "    padding: 5px;\n",
       "  }\n",
       "  th {\n",
       "    text-align: left;\n",
       "  }\n",
       "</style><div class='table-result-container'><table class='table-result'><thead style='background-color: white'><tr><th>TransactionID</th><th>isFraud</th></tr></thead><tbody><tr><td>3663549</td><td>0</td></tr><tr><td>3663550</td><td>0</td></tr><tr><td>3663551</td><td>0</td></tr><tr><td>3663552</td><td>0</td></tr><tr><td>3663553</td><td>1</td></tr><tr><td>3663554</td><td>0</td></tr><tr><td>3663555</td><td>0</td></tr><tr><td>3663556</td><td>1</td></tr><tr><td>3663557</td><td>0</td></tr><tr><td>3663558</td><td>1</td></tr><tr><td>3663559</td><td>0</td></tr><tr><td>3663560</td><td>0</td></tr><tr><td>3663561</td><td>0</td></tr><tr><td>3663562</td><td>0</td></tr><tr><td>3663563</td><td>0</td></tr><tr><td>3663564</td><td>0</td></tr><tr><td>3663565</td><td>0</td></tr><tr><td>3663566</td><td>0</td></tr><tr><td>3663567</td><td>0</td></tr><tr><td>3663568</td><td>0</td></tr><tr><td>3663569</td><td>0</td></tr><tr><td>3663570</td><td>0</td></tr><tr><td>3663571</td><td>0</td></tr><tr><td>3663572</td><td>0</td></tr><tr><td>3663573</td><td>1</td></tr><tr><td>3663574</td><td>0</td></tr><tr><td>3663575</td><td>0</td></tr><tr><td>3663576</td><td>0</td></tr><tr><td>3663577</td><td>0</td></tr><tr><td>3663578</td><td>0</td></tr><tr><td>3663579</td><td>0</td></tr><tr><td>3663580</td><td>0</td></tr><tr><td>3663581</td><td>0</td></tr><tr><td>3663582</td><td>0</td></tr><tr><td>3663583</td><td>0</td></tr><tr><td>3663584</td><td>0</td></tr><tr><td>3663585</td><td>0</td></tr><tr><td>3663586</td><td>0</td></tr><tr><td>3663587</td><td>0</td></tr><tr><td>3663588</td><td>0</td></tr><tr><td>3663589</td><td>0</td></tr><tr><td>3663590</td><td>0</td></tr><tr><td>3663591</td><td>0</td></tr><tr><td>3663592</td><td>0</td></tr><tr><td>3663593</td><td>0</td></tr><tr><td>3663594</td><td>0</td></tr><tr><td>3663595</td><td>0</td></tr><tr><td>3663596</td><td>0</td></tr><tr><td>3663597</td><td>0</td></tr><tr><td>3663598</td><td>0</td></tr><tr><td>3663599</td><td>1</td></tr><tr><td>3663600</td><td>1</td></tr><tr><td>3663601</td><td>1</td></tr><tr><td>3663602</td><td>1</td></tr><tr><td>3663603</td><td>1</td></tr><tr><td>3663604</td><td>1</td></tr><tr><td>3663605</td><td>1</td></tr><tr><td>3663606</td><td>1</td></tr><tr><td>3663607</td><td>1</td></tr><tr><td>3663608</td><td>1</td></tr><tr><td>3663609</td><td>1</td></tr><tr><td>3663610</td><td>1</td></tr><tr><td>3663611</td><td>1</td></tr><tr><td>3663612</td><td>1</td></tr><tr><td>3663613</td><td>1</td></tr><tr><td>3663614</td><td>1</td></tr><tr><td>3663615</td><td>1</td></tr><tr><td>3663616</td><td>1</td></tr><tr><td>3663617</td><td>1</td></tr><tr><td>3663618</td><td>1</td></tr><tr><td>3663619</td><td>1</td></tr><tr><td>3663620</td><td>1</td></tr><tr><td>3663621</td><td>1</td></tr><tr><td>3663622</td><td>1</td></tr><tr><td>3663623</td><td>1</td></tr><tr><td>3663624</td><td>1</td></tr><tr><td>3663625</td><td>1</td></tr><tr><td>3663626</td><td>1</td></tr><tr><td>3663627</td><td>1</td></tr><tr><td>3663628</td><td>1</td></tr><tr><td>3663629</td><td>0</td></tr><tr><td>3663630</td><td>0</td></tr><tr><td>3663631</td><td>0</td></tr><tr><td>3663632</td><td>0</td></tr><tr><td>3663633</td><td>0</td></tr><tr><td>3663634</td><td>1</td></tr><tr><td>3663635</td><td>1</td></tr><tr><td>3663636</td><td>0</td></tr><tr><td>3663637</td><td>0</td></tr><tr><td>3663638</td><td>0</td></tr><tr><td>3663639</td><td>0</td></tr><tr><td>3663640</td><td>0</td></tr><tr><td>3663641</td><td>0</td></tr><tr><td>3663642</td><td>1</td></tr><tr><td>3663643</td><td>0</td></tr><tr><td>3663644</td><td>0</td></tr><tr><td>3663645</td><td>0</td></tr><tr><td>3663646</td><td>0</td></tr><tr><td>3663647</td><td>0</td></tr><tr><td>3663648</td><td>0</td></tr><tr><td>3663649</td><td>0</td></tr><tr><td>3663650</td><td>0</td></tr><tr><td>3663651</td><td>0</td></tr><tr><td>3663652</td><td>0</td></tr><tr><td>3663653</td><td>0</td></tr><tr><td>3663654</td><td>0</td></tr><tr><td>3663655</td><td>1</td></tr><tr><td>3663656</td><td>0</td></tr><tr><td>3663657</td><td>0</td></tr><tr><td>3663658</td><td>0</td></tr><tr><td>3663659</td><td>0</td></tr><tr><td>3663660</td><td>0</td></tr><tr><td>3663661</td><td>0</td></tr><tr><td>3663662</td><td>0</td></tr><tr><td>3663663</td><td>0</td></tr><tr><td>3663664</td><td>0</td></tr><tr><td>3663665</td><td>0</td></tr><tr><td>3663666</td><td>0</td></tr><tr><td>3663667</td><td>0</td></tr><tr><td>3663668</td><td>0</td></tr><tr><td>3663669</td><td>0</td></tr><tr><td>3663670</td><td>0</td></tr><tr><td>3663671</td><td>0</td></tr><tr><td>3663672</td><td>0</td></tr><tr><td>3663673</td><td>0</td></tr><tr><td>3663674</td><td>0</td></tr><tr><td>3663675</td><td>1</td></tr><tr><td>3663676</td><td>1</td></tr><tr><td>3663677</td><td>1</td></tr><tr><td>3663678</td><td>1</td></tr><tr><td>3663679</td><td>1</td></tr><tr><td>3663680</td><td>1</td></tr><tr><td>3663681</td><td>1</td></tr><tr><td>3663682</td><td>1</td></tr><tr><td>3663683</td><td>1</td></tr><tr><td>3663684</td><td>1</td></tr><tr><td>3663685</td><td>1</td></tr><tr><td>3663686</td><td>1</td></tr><tr><td>3663687</td><td>1</td></tr><tr><td>3663688</td><td>1</td></tr><tr><td>3663689</td><td>1</td></tr><tr><td>3663690</td><td>1</td></tr><tr><td>3663691</td><td>1</td></tr><tr><td>3663692</td><td>1</td></tr><tr><td>3663693</td><td>1</td></tr><tr><td>3663694</td><td>1</td></tr><tr><td>3663695</td><td>1</td></tr><tr><td>3663696</td><td>1</td></tr><tr><td>3663697</td><td>1</td></tr><tr><td>3663698</td><td>1</td></tr><tr><td>3663699</td><td>1</td></tr><tr><td>3663700</td><td>1</td></tr><tr><td>3663701</td><td>1</td></tr><tr><td>3663702</td><td>0</td></tr><tr><td>3663703</td><td>0</td></tr><tr><td>3663704</td><td>0</td></tr><tr><td>3663705</td><td>1</td></tr><tr><td>3663706</td><td>0</td></tr><tr><td>3663707</td><td>0</td></tr><tr><td>3663708</td><td>0</td></tr><tr><td>3663709</td><td>0</td></tr><tr><td>3663710</td><td>0</td></tr><tr><td>3663711</td><td>1</td></tr><tr><td>3663712</td><td>1</td></tr><tr><td>3663713</td><td>0</td></tr><tr><td>3663714</td><td>1</td></tr><tr><td>3663715</td><td>0</td></tr><tr><td>3663716</td><td>0</td></tr><tr><td>3663717</td><td>0</td></tr><tr><td>3663718</td><td>0</td></tr><tr><td>3663719</td><td>0</td></tr><tr><td>3663720</td><td>0</td></tr><tr><td>3663721</td><td>0</td></tr><tr><td>3663722</td><td>0</td></tr><tr><td>3663723</td><td>0</td></tr><tr><td>3663724</td><td>0</td></tr><tr><td>3663725</td><td>1</td></tr><tr><td>3663726</td><td>0</td></tr><tr><td>3663727</td><td>0</td></tr><tr><td>3663728</td><td>0</td></tr><tr><td>3663729</td><td>0</td></tr><tr><td>3663730</td><td>0</td></tr><tr><td>3663731</td><td>0</td></tr><tr><td>3663732</td><td>0</td></tr><tr><td>3663733</td><td>0</td></tr><tr><td>3663734</td><td>0</td></tr><tr><td>3663735</td><td>1</td></tr><tr><td>3663736</td><td>0</td></tr><tr><td>3663737</td><td>0</td></tr><tr><td>3663738</td><td>0</td></tr><tr><td>3663739</td><td>0</td></tr><tr><td>3663740</td><td>1</td></tr><tr><td>3663741</td><td>0</td></tr><tr><td>3663742</td><td>0</td></tr><tr><td>3663743</td><td>0</td></tr><tr><td>3663744</td><td>0</td></tr><tr><td>3663745</td><td>0</td></tr><tr><td>3663746</td><td>1</td></tr><tr><td>3663747</td><td>0</td></tr><tr><td>3663748</td><td>0</td></tr><tr><td>3663749</td><td>0</td></tr><tr><td>3663750</td><td>0</td></tr><tr><td>3663751</td><td>0</td></tr><tr><td>3663752</td><td>0</td></tr><tr><td>3663753</td><td>1</td></tr><tr><td>3663754</td><td>0</td></tr><tr><td>3663755</td><td>0</td></tr><tr><td>3663756</td><td>0</td></tr><tr><td>3663757</td><td>0</td></tr><tr><td>3663758</td><td>0</td></tr><tr><td>3663759</td><td>0</td></tr><tr><td>3663760</td><td>0</td></tr><tr><td>3663761</td><td>0</td></tr><tr><td>3663762</td><td>0</td></tr><tr><td>3663763</td><td>0</td></tr><tr><td>3663764</td><td>0</td></tr><tr><td>3663765</td><td>0</td></tr><tr><td>3663766</td><td>0</td></tr><tr><td>3663767</td><td>1</td></tr><tr><td>3663768</td><td>0</td></tr><tr><td>3663769</td><td>0</td></tr><tr><td>3663770</td><td>0</td></tr><tr><td>3663771</td><td>0</td></tr><tr><td>3663772</td><td>0</td></tr><tr><td>3663773</td><td>1</td></tr><tr><td>3663774</td><td>1</td></tr><tr><td>3663775</td><td>1</td></tr><tr><td>3663776</td><td>1</td></tr><tr><td>3663777</td><td>1</td></tr><tr><td>3663778</td><td>1</td></tr><tr><td>3663779</td><td>1</td></tr><tr><td>3663780</td><td>1</td></tr><tr><td>3663781</td><td>1</td></tr><tr><td>3663782</td><td>1</td></tr><tr><td>3663783</td><td>1</td></tr><tr><td>3663784</td><td>1</td></tr><tr><td>3663785</td><td>1</td></tr><tr><td>3663786</td><td>1</td></tr><tr><td>3663787</td><td>1</td></tr><tr><td>3663788</td><td>1</td></tr><tr><td>3663789</td><td>1</td></tr><tr><td>3663790</td><td>1</td></tr><tr><td>3663791</td><td>1</td></tr><tr><td>3663792</td><td>1</td></tr><tr><td>3663793</td><td>1</td></tr><tr><td>3663794</td><td>0</td></tr><tr><td>3663795</td><td>1</td></tr><tr><td>3663796</td><td>1</td></tr><tr><td>3663797</td><td>1</td></tr><tr><td>3663798</td><td>1</td></tr><tr><td>3663799</td><td>1</td></tr><tr><td>3663800</td><td>1</td></tr><tr><td>3663801</td><td>1</td></tr><tr><td>3663802</td><td>1</td></tr><tr><td>3663803</td><td>1</td></tr><tr><td>3663804</td><td>0</td></tr><tr><td>3663805</td><td>0</td></tr><tr><td>3663806</td><td>0</td></tr><tr><td>3663807</td><td>0</td></tr><tr><td>3663808</td><td>0</td></tr><tr><td>3663809</td><td>0</td></tr><tr><td>3663810</td><td>0</td></tr><tr><td>3663811</td><td>0</td></tr><tr><td>3663812</td><td>0</td></tr><tr><td>3663813</td><td>0</td></tr><tr><td>3663814</td><td>0</td></tr><tr><td>3663815</td><td>0</td></tr><tr><td>3663816</td><td>1</td></tr><tr><td>3663817</td><td>1</td></tr><tr><td>3663818</td><td>0</td></tr><tr><td>3663819</td><td>0</td></tr><tr><td>3663820</td><td>0</td></tr><tr><td>3663821</td><td>0</td></tr><tr><td>3663822</td><td>0</td></tr><tr><td>3663823</td><td>0</td></tr><tr><td>3663824</td><td>1</td></tr><tr><td>3663825</td><td>0</td></tr><tr><td>3663826</td><td>0</td></tr><tr><td>3663827</td><td>0</td></tr><tr><td>3663828</td><td>0</td></tr><tr><td>3663829</td><td>0</td></tr><tr><td>3663830</td><td>0</td></tr><tr><td>3663831</td><td>0</td></tr><tr><td>3663832</td><td>0</td></tr><tr><td>3663833</td><td>0</td></tr><tr><td>3663834</td><td>0</td></tr><tr><td>3663835</td><td>0</td></tr><tr><td>3663836</td><td>0</td></tr><tr><td>3663837</td><td>0</td></tr><tr><td>3663838</td><td>0</td></tr><tr><td>3663839</td><td>0</td></tr><tr><td>3663840</td><td>0</td></tr><tr><td>3663841</td><td>0</td></tr><tr><td>3663842</td><td>0</td></tr><tr><td>3663843</td><td>0</td></tr><tr><td>3663844</td><td>0</td></tr><tr><td>3663845</td><td>1</td></tr><tr><td>3663846</td><td>0</td></tr><tr><td>3663847</td><td>0</td></tr><tr><td>3663848</td><td>1</td></tr><tr><td>3663849</td><td>0</td></tr><tr><td>3663850</td><td>0</td></tr><tr><td>3663851</td><td>0</td></tr><tr><td>3663852</td><td>1</td></tr><tr><td>3663853</td><td>1</td></tr><tr><td>3663854</td><td>1</td></tr><tr><td>3663855</td><td>0</td></tr><tr><td>3663856</td><td>0</td></tr><tr><td>3663857</td><td>0</td></tr><tr><td>3663858</td><td>1</td></tr><tr><td>3663859</td><td>1</td></tr><tr><td>3663860</td><td>1</td></tr><tr><td>3663861</td><td>1</td></tr><tr><td>3663862</td><td>1</td></tr><tr><td>3663863</td><td>1</td></tr><tr><td>3663864</td><td>1</td></tr><tr><td>3663865</td><td>1</td></tr><tr><td>3663866</td><td>1</td></tr><tr><td>3663867</td><td>1</td></tr><tr><td>3663868</td><td>1</td></tr><tr><td>3663869</td><td>1</td></tr><tr><td>3663870</td><td>1</td></tr><tr><td>3663871</td><td>1</td></tr><tr><td>3663872</td><td>1</td></tr><tr><td>3663873</td><td>0</td></tr><tr><td>3663874</td><td>1</td></tr><tr><td>3663875</td><td>1</td></tr><tr><td>3663876</td><td>1</td></tr><tr><td>3663877</td><td>1</td></tr><tr><td>3663878</td><td>1</td></tr><tr><td>3663879</td><td>1</td></tr><tr><td>3663880</td><td>1</td></tr><tr><td>3663881</td><td>1</td></tr><tr><td>3663882</td><td>0</td></tr><tr><td>3663883</td><td>1</td></tr><tr><td>3663884</td><td>1</td></tr><tr><td>3663885</td><td>0</td></tr><tr><td>3663886</td><td>1</td></tr><tr><td>3663887</td><td>0</td></tr><tr><td>3663888</td><td>1</td></tr><tr><td>3663889</td><td>1</td></tr><tr><td>3663890</td><td>0</td></tr><tr><td>3663891</td><td>0</td></tr><tr><td>3663892</td><td>1</td></tr><tr><td>3663893</td><td>1</td></tr><tr><td>3663894</td><td>1</td></tr><tr><td>3663895</td><td>0</td></tr><tr><td>3663896</td><td>1</td></tr><tr><td>3663897</td><td>0</td></tr><tr><td>3663898</td><td>0</td></tr><tr><td>3663899</td><td>0</td></tr><tr><td>3663900</td><td>0</td></tr><tr><td>3663901</td><td>0</td></tr><tr><td>3663902</td><td>0</td></tr><tr><td>3663903</td><td>0</td></tr><tr><td>3663904</td><td>0</td></tr><tr><td>3663905</td><td>1</td></tr><tr><td>3663906</td><td>1</td></tr><tr><td>3663907</td><td>0</td></tr><tr><td>3663908</td><td>0</td></tr><tr><td>3663909</td><td>0</td></tr><tr><td>3663910</td><td>0</td></tr><tr><td>3663911</td><td>0</td></tr><tr><td>3663912</td><td>0</td></tr><tr><td>3663913</td><td>0</td></tr><tr><td>3663914</td><td>0</td></tr><tr><td>3663915</td><td>0</td></tr><tr><td>3663916</td><td>1</td></tr><tr><td>3663917</td><td>0</td></tr><tr><td>3663918</td><td>0</td></tr><tr><td>3663919</td><td>0</td></tr><tr><td>3663920</td><td>0</td></tr><tr><td>3663921</td><td>0</td></tr><tr><td>3663922</td><td>0</td></tr><tr><td>3663923</td><td>1</td></tr><tr><td>3663924</td><td>1</td></tr><tr><td>3663925</td><td>0</td></tr><tr><td>3663926</td><td>0</td></tr><tr><td>3663927</td><td>0</td></tr><tr><td>3663928</td><td>0</td></tr><tr><td>3663929</td><td>0</td></tr><tr><td>3663930</td><td>0</td></tr><tr><td>3663931</td><td>0</td></tr><tr><td>3663932</td><td>1</td></tr><tr><td>3663933</td><td>1</td></tr><tr><td>3663934</td><td>1</td></tr><tr><td>3663935</td><td>1</td></tr><tr><td>3663936</td><td>1</td></tr><tr><td>3663937</td><td>1</td></tr><tr><td>3663938</td><td>1</td></tr><tr><td>3663939</td><td>1</td></tr><tr><td>3663940</td><td>1</td></tr><tr><td>3663941</td><td>1</td></tr><tr><td>3663942</td><td>1</td></tr><tr><td>3663943</td><td>1</td></tr><tr><td>3663944</td><td>1</td></tr><tr><td>3663945</td><td>1</td></tr><tr><td>3663946</td><td>1</td></tr><tr><td>3663947</td><td>1</td></tr><tr><td>3663948</td><td>1</td></tr><tr><td>3663949</td><td>1</td></tr><tr><td>3663950</td><td>1</td></tr><tr><td>3663951</td><td>1</td></tr><tr><td>3663952</td><td>1</td></tr><tr><td>3663953</td><td>1</td></tr><tr><td>3663954</td><td>1</td></tr><tr><td>3663955</td><td>1</td></tr><tr><td>3663956</td><td>1</td></tr><tr><td>3663957</td><td>1</td></tr><tr><td>3663958</td><td>1</td></tr><tr><td>3663959</td><td>1</td></tr><tr><td>3663960</td><td>1</td></tr><tr><td>3663961</td><td>1</td></tr><tr><td>3663962</td><td>0</td></tr><tr><td>3663963</td><td>0</td></tr><tr><td>3663964</td><td>0</td></tr><tr><td>3663965</td><td>0</td></tr><tr><td>3663966</td><td>0</td></tr><tr><td>3663967</td><td>1</td></tr><tr><td>3663968</td><td>0</td></tr><tr><td>3663969</td><td>0</td></tr><tr><td>3663970</td><td>1</td></tr><tr><td>3663971</td><td>0</td></tr><tr><td>3663972</td><td>0</td></tr><tr><td>3663973</td><td>0</td></tr><tr><td>3663974</td><td>0</td></tr><tr><td>3663975</td><td>0</td></tr><tr><td>3663976</td><td>0</td></tr><tr><td>3663977</td><td>0</td></tr><tr><td>3663978</td><td>0</td></tr><tr><td>3663979</td><td>0</td></tr><tr><td>3663980</td><td>0</td></tr><tr><td>3663981</td><td>0</td></tr><tr><td>3663982</td><td>0</td></tr><tr><td>3663983</td><td>0</td></tr><tr><td>3663984</td><td>0</td></tr><tr><td>3663985</td><td>0</td></tr><tr><td>3663986</td><td>0</td></tr><tr><td>3663987</td><td>0</td></tr><tr><td>3663988</td><td>0</td></tr><tr><td>3663989</td><td>0</td></tr><tr><td>3663990</td><td>1</td></tr><tr><td>3663991</td><td>0</td></tr><tr><td>3663992</td><td>0</td></tr><tr><td>3663993</td><td>0</td></tr><tr><td>3663994</td><td>0</td></tr><tr><td>3663995</td><td>0</td></tr><tr><td>3663996</td><td>0</td></tr><tr><td>3663997</td><td>0</td></tr><tr><td>3663998</td><td>0</td></tr><tr><td>3663999</td><td>0</td></tr><tr><td>3664000</td><td>1</td></tr><tr><td>3664001</td><td>0</td></tr><tr><td>3664002</td><td>0</td></tr><tr><td>3664003</td><td>0</td></tr><tr><td>3664004</td><td>0</td></tr><tr><td>3664005</td><td>0</td></tr><tr><td>3664006</td><td>0</td></tr><tr><td>3664007</td><td>0</td></tr><tr><td>3664008</td><td>0</td></tr><tr><td>3664009</td><td>0</td></tr><tr><td>3664010</td><td>0</td></tr><tr><td>3664011</td><td>1</td></tr><tr><td>3664012</td><td>1</td></tr><tr><td>3664013</td><td>1</td></tr><tr><td>3664014</td><td>1</td></tr><tr><td>3664015</td><td>1</td></tr><tr><td>3664016</td><td>1</td></tr><tr><td>3664017</td><td>1</td></tr><tr><td>3664018</td><td>1</td></tr><tr><td>3664019</td><td>1</td></tr><tr><td>3664020</td><td>1</td></tr><tr><td>3664021</td><td>1</td></tr><tr><td>3664022</td><td>1</td></tr><tr><td>3664023</td><td>1</td></tr><tr><td>3664024</td><td>1</td></tr><tr><td>3664025</td><td>1</td></tr><tr><td>3664026</td><td>1</td></tr><tr><td>3664027</td><td>1</td></tr><tr><td>3664028</td><td>1</td></tr><tr><td>3664029</td><td>1</td></tr><tr><td>3664030</td><td>1</td></tr><tr><td>3664031</td><td>1</td></tr><tr><td>3664032</td><td>1</td></tr><tr><td>3664033</td><td>1</td></tr><tr><td>3664034</td><td>1</td></tr><tr><td>3664035</td><td>1</td></tr><tr><td>3664036</td><td>1</td></tr><tr><td>3664037</td><td>1</td></tr><tr><td>3664038</td><td>1</td></tr><tr><td>3664039</td><td>1</td></tr><tr><td>3664040</td><td>1</td></tr><tr><td>3664041</td><td>1</td></tr><tr><td>3664042</td><td>1</td></tr><tr><td>3664043</td><td>1</td></tr><tr><td>3664044</td><td>1</td></tr><tr><td>3664045</td><td>1</td></tr><tr><td>3664046</td><td>1</td></tr><tr><td>3664047</td><td>1</td></tr><tr><td>3664048</td><td>1</td></tr><tr><td>3664049</td><td>1</td></tr><tr><td>3664050</td><td>1</td></tr><tr><td>3664051</td><td>1</td></tr><tr><td>3664052</td><td>1</td></tr><tr><td>3664053</td><td>0</td></tr><tr><td>3664054</td><td>0</td></tr><tr><td>3664055</td><td>0</td></tr><tr><td>3664056</td><td>1</td></tr><tr><td>3664057</td><td>0</td></tr><tr><td>3664058</td><td>1</td></tr><tr><td>3664059</td><td>0</td></tr><tr><td>3664060</td><td>0</td></tr><tr><td>3664061</td><td>0</td></tr><tr><td>3664062</td><td>0</td></tr><tr><td>3664063</td><td>0</td></tr><tr><td>3664064</td><td>0</td></tr><tr><td>3664065</td><td>1</td></tr><tr><td>3664066</td><td>0</td></tr><tr><td>3664067</td><td>0</td></tr><tr><td>3664068</td><td>1</td></tr><tr><td>3664069</td><td>1</td></tr><tr><td>3664070</td><td>1</td></tr><tr><td>3664071</td><td>0</td></tr><tr><td>3664072</td><td>0</td></tr><tr><td>3664073</td><td>0</td></tr><tr><td>3664074</td><td>1</td></tr><tr><td>3664075</td><td>0</td></tr><tr><td>3664076</td><td>0</td></tr><tr><td>3664077</td><td>1</td></tr><tr><td>3664078</td><td>0</td></tr><tr><td>3664079</td><td>0</td></tr><tr><td>3664080</td><td>0</td></tr><tr><td>3664081</td><td>0</td></tr><tr><td>3664082</td><td>0</td></tr><tr><td>3664083</td><td>0</td></tr><tr><td>3664084</td><td>0</td></tr><tr><td>3664085</td><td>0</td></tr><tr><td>3664086</td><td>0</td></tr><tr><td>3664087</td><td>0</td></tr><tr><td>3664088</td><td>0</td></tr><tr><td>3664089</td><td>0</td></tr><tr><td>3664090</td><td>0</td></tr><tr><td>3664091</td><td>0</td></tr><tr><td>3664092</td><td>1</td></tr><tr><td>3664093</td><td>0</td></tr><tr><td>3664094</td><td>0</td></tr><tr><td>3664095</td><td>0</td></tr><tr><td>3664096</td><td>0</td></tr><tr><td>3664097</td><td>0</td></tr><tr><td>3664098</td><td>1</td></tr><tr><td>3664099</td><td>0</td></tr><tr><td>3664100</td><td>0</td></tr><tr><td>3664101</td><td>0</td></tr><tr><td>3664102</td><td>0</td></tr><tr><td>3664103</td><td>0</td></tr><tr><td>3664104</td><td>1</td></tr><tr><td>3664105</td><td>0</td></tr><tr><td>3664106</td><td>0</td></tr><tr><td>3664107</td><td>1</td></tr><tr><td>3664108</td><td>0</td></tr><tr><td>3664109</td><td>0</td></tr><tr><td>3664110</td><td>1</td></tr><tr><td>3664111</td><td>1</td></tr><tr><td>3664112</td><td>0</td></tr><tr><td>3664113</td><td>1</td></tr><tr><td>3664114</td><td>1</td></tr><tr><td>3664115</td><td>1</td></tr><tr><td>3664116</td><td>1</td></tr><tr><td>3664117</td><td>1</td></tr><tr><td>3664118</td><td>1</td></tr><tr><td>3664119</td><td>1</td></tr><tr><td>3664120</td><td>1</td></tr><tr><td>3664121</td><td>1</td></tr><tr><td>3664122</td><td>1</td></tr><tr><td>3664123</td><td>1</td></tr><tr><td>3664124</td><td>1</td></tr><tr><td>3664125</td><td>1</td></tr><tr><td>3664126</td><td>1</td></tr><tr><td>3664127</td><td>1</td></tr><tr><td>3664128</td><td>1</td></tr><tr><td>3664129</td><td>1</td></tr><tr><td>3664130</td><td>1</td></tr><tr><td>3664131</td><td>1</td></tr><tr><td>3664132</td><td>1</td></tr><tr><td>3664133</td><td>1</td></tr><tr><td>3664134</td><td>1</td></tr><tr><td>3664135</td><td>1</td></tr><tr><td>3664136</td><td>1</td></tr><tr><td>3664137</td><td>1</td></tr><tr><td>3664138</td><td>1</td></tr><tr><td>3664139</td><td>1</td></tr><tr><td>3664140</td><td>0</td></tr><tr><td>3664141</td><td>0</td></tr><tr><td>3664142</td><td>1</td></tr><tr><td>3664143</td><td>0</td></tr><tr><td>3664144</td><td>0</td></tr><tr><td>3664145</td><td>0</td></tr><tr><td>3664146</td><td>1</td></tr><tr><td>3664147</td><td>0</td></tr><tr><td>3664148</td><td>0</td></tr><tr><td>3664149</td><td>0</td></tr><tr><td>3664150</td><td>0</td></tr><tr><td>3664151</td><td>1</td></tr><tr><td>3664152</td><td>1</td></tr><tr><td>3664153</td><td>0</td></tr><tr><td>3664154</td><td>0</td></tr><tr><td>3664155</td><td>0</td></tr><tr><td>3664156</td><td>0</td></tr><tr><td>3664157</td><td>1</td></tr><tr><td>3664158</td><td>1</td></tr><tr><td>3664159</td><td>0</td></tr><tr><td>3664160</td><td>0</td></tr><tr><td>3664161</td><td>0</td></tr><tr><td>3664162</td><td>0</td></tr><tr><td>3664163</td><td>0</td></tr><tr><td>3664164</td><td>1</td></tr><tr><td>3664165</td><td>0</td></tr><tr><td>3664166</td><td>0</td></tr><tr><td>3664167</td><td>0</td></tr><tr><td>3664168</td><td>0</td></tr><tr><td>3664169</td><td>0</td></tr><tr><td>3664170</td><td>0</td></tr><tr><td>3664171</td><td>0</td></tr><tr><td>3664172</td><td>0</td></tr><tr><td>3664173</td><td>0</td></tr><tr><td>3664174</td><td>0</td></tr><tr><td>3664175</td><td>0</td></tr><tr><td>3664176</td><td>0</td></tr><tr><td>3664177</td><td>0</td></tr><tr><td>3664178</td><td>1</td></tr><tr><td>3664179</td><td>1</td></tr><tr><td>3664180</td><td>1</td></tr><tr><td>3664181</td><td>1</td></tr><tr><td>3664182</td><td>1</td></tr><tr><td>3664183</td><td>1</td></tr><tr><td>3664184</td><td>1</td></tr><tr><td>3664185</td><td>1</td></tr><tr><td>3664186</td><td>1</td></tr><tr><td>3664187</td><td>1</td></tr><tr><td>3664188</td><td>1</td></tr><tr><td>3664189</td><td>1</td></tr><tr><td>3664190</td><td>1</td></tr><tr><td>3664191</td><td>1</td></tr><tr><td>3664192</td><td>1</td></tr><tr><td>3664193</td><td>1</td></tr><tr><td>3664194</td><td>1</td></tr><tr><td>3664195</td><td>1</td></tr><tr><td>3664196</td><td>1</td></tr><tr><td>3664197</td><td>1</td></tr><tr><td>3664198</td><td>1</td></tr><tr><td>3664199</td><td>1</td></tr><tr><td>3664200</td><td>0</td></tr><tr><td>3664201</td><td>0</td></tr><tr><td>3664202</td><td>1</td></tr><tr><td>3664203</td><td>0</td></tr><tr><td>3664204</td><td>0</td></tr><tr><td>3664205</td><td>0</td></tr><tr><td>3664206</td><td>0</td></tr><tr><td>3664207</td><td>0</td></tr><tr><td>3664208</td><td>0</td></tr><tr><td>3664209</td><td>0</td></tr><tr><td>3664210</td><td>0</td></tr><tr><td>3664211</td><td>0</td></tr><tr><td>3664212</td><td>0</td></tr><tr><td>3664213</td><td>0</td></tr><tr><td>3664214</td><td>0</td></tr><tr><td>3664215</td><td>0</td></tr><tr><td>3664216</td><td>0</td></tr><tr><td>3664217</td><td>0</td></tr><tr><td>3664218</td><td>0</td></tr><tr><td>3664219</td><td>0</td></tr><tr><td>3664220</td><td>0</td></tr><tr><td>3664221</td><td>0</td></tr><tr><td>3664222</td><td>1</td></tr><tr><td>3664223</td><td>1</td></tr><tr><td>3664224</td><td>0</td></tr><tr><td>3664225</td><td>0</td></tr><tr><td>3664226</td><td>0</td></tr><tr><td>3664227</td><td>0</td></tr><tr><td>3664228</td><td>0</td></tr><tr><td>3664229</td><td>0</td></tr><tr><td>3664230</td><td>0</td></tr><tr><td>3664231</td><td>0</td></tr><tr><td>3664232</td><td>0</td></tr><tr><td>3664233</td><td>0</td></tr><tr><td>3664234</td><td>0</td></tr><tr><td>3664235</td><td>0</td></tr><tr><td>3664236</td><td>0</td></tr><tr><td>3664237</td><td>0</td></tr><tr><td>3664238</td><td>0</td></tr><tr><td>3664239</td><td>0</td></tr><tr><td>3664240</td><td>1</td></tr><tr><td>3664241</td><td>0</td></tr><tr><td>3664242</td><td>0</td></tr><tr><td>3664243</td><td>0</td></tr><tr><td>3664244</td><td>0</td></tr><tr><td>3664245</td><td>1</td></tr><tr><td>3664246</td><td>1</td></tr><tr><td>3664247</td><td>1</td></tr><tr><td>3664248</td><td>1</td></tr><tr><td>3664249</td><td>1</td></tr><tr><td>3664250</td><td>1</td></tr><tr><td>3664251</td><td>1</td></tr><tr><td>3664252</td><td>1</td></tr><tr><td>3664253</td><td>1</td></tr><tr><td>3664254</td><td>1</td></tr><tr><td>3664255</td><td>1</td></tr><tr><td>3664256</td><td>1</td></tr><tr><td>3664257</td><td>1</td></tr><tr><td>3664258</td><td>1</td></tr><tr><td>3664259</td><td>1</td></tr><tr><td>3664260</td><td>1</td></tr><tr><td>3664261</td><td>1</td></tr><tr><td>3664262</td><td>1</td></tr><tr><td>3664263</td><td>1</td></tr><tr><td>3664264</td><td>1</td></tr><tr><td>3664265</td><td>1</td></tr><tr><td>3664266</td><td>1</td></tr><tr><td>3664267</td><td>1</td></tr><tr><td>3664268</td><td>1</td></tr><tr><td>3664269</td><td>1</td></tr><tr><td>3664270</td><td>1</td></tr><tr><td>3664271</td><td>1</td></tr><tr><td>3664272</td><td>1</td></tr><tr><td>3664273</td><td>1</td></tr><tr><td>3664274</td><td>1</td></tr><tr><td>3664275</td><td>1</td></tr><tr><td>3664276</td><td>1</td></tr><tr><td>3664277</td><td>1</td></tr><tr><td>3664278</td><td>0</td></tr><tr><td>3664279</td><td>0</td></tr><tr><td>3664280</td><td>1</td></tr><tr><td>3664281</td><td>0</td></tr><tr><td>3664282</td><td>0</td></tr><tr><td>3664283</td><td>0</td></tr><tr><td>3664284</td><td>0</td></tr><tr><td>3664285</td><td>0</td></tr><tr><td>3664286</td><td>0</td></tr><tr><td>3664287</td><td>0</td></tr><tr><td>3664288</td><td>0</td></tr><tr><td>3664289</td><td>0</td></tr><tr><td>3664290</td><td>0</td></tr><tr><td>3664291</td><td>0</td></tr><tr><td>3664292</td><td>0</td></tr><tr><td>3664293</td><td>0</td></tr><tr><td>3664294</td><td>0</td></tr><tr><td>3664295</td><td>0</td></tr><tr><td>3664296</td><td>0</td></tr><tr><td>3664297</td><td>0</td></tr><tr><td>3664298</td><td>0</td></tr><tr><td>3664299</td><td>0</td></tr><tr><td>3664300</td><td>0</td></tr><tr><td>3664301</td><td>0</td></tr><tr><td>3664302</td><td>0</td></tr><tr><td>3664303</td><td>0</td></tr><tr><td>3664304</td><td>0</td></tr><tr><td>3664305</td><td>0</td></tr><tr><td>3664306</td><td>0</td></tr><tr><td>3664307</td><td>0</td></tr><tr><td>3664308</td><td>1</td></tr><tr><td>3664309</td><td>0</td></tr><tr><td>3664310</td><td>0</td></tr><tr><td>3664311</td><td>0</td></tr><tr><td>3664312</td><td>0</td></tr><tr><td>3664313</td><td>0</td></tr><tr><td>3664314</td><td>0</td></tr><tr><td>3664315</td><td>0</td></tr><tr><td>3664316</td><td>0</td></tr><tr><td>3664317</td><td>0</td></tr><tr><td>3664318</td><td>0</td></tr><tr><td>3664319</td><td>0</td></tr><tr><td>3664320</td><td>0</td></tr><tr><td>3664321</td><td>1</td></tr><tr><td>3664322</td><td>0</td></tr><tr><td>3664323</td><td>0</td></tr><tr><td>3664324</td><td>0</td></tr><tr><td>3664325</td><td>1</td></tr><tr><td>3664326</td><td>1</td></tr><tr><td>3664327</td><td>1</td></tr><tr><td>3664328</td><td>1</td></tr><tr><td>3664329</td><td>1</td></tr><tr><td>3664330</td><td>1</td></tr><tr><td>3664331</td><td>1</td></tr><tr><td>3664332</td><td>1</td></tr><tr><td>3664333</td><td>1</td></tr><tr><td>3664334</td><td>1</td></tr><tr><td>3664335</td><td>1</td></tr><tr><td>3664336</td><td>1</td></tr><tr><td>3664337</td><td>1</td></tr><tr><td>3664338</td><td>1</td></tr><tr><td>3664339</td><td>1</td></tr><tr><td>3664340</td><td>1</td></tr><tr><td>3664341</td><td>1</td></tr><tr><td>3664342</td><td>1</td></tr><tr><td>3664343</td><td>1</td></tr><tr><td>3664344</td><td>1</td></tr><tr><td>3664345</td><td>1</td></tr><tr><td>3664346</td><td>1</td></tr><tr><td>3664347</td><td>1</td></tr><tr><td>3664348</td><td>1</td></tr><tr><td>3664349</td><td>1</td></tr><tr><td>3664350</td><td>1</td></tr><tr><td>3664351</td><td>1</td></tr><tr><td>3664352</td><td>0</td></tr><tr><td>3664353</td><td>0</td></tr><tr><td>3664354</td><td>0</td></tr><tr><td>3664355</td><td>0</td></tr><tr><td>3664356</td><td>0</td></tr><tr><td>3664357</td><td>0</td></tr><tr><td>3664358</td><td>0</td></tr><tr><td>3664359</td><td>1</td></tr><tr><td>3664360</td><td>0</td></tr><tr><td>3664361</td><td>0</td></tr><tr><td>3664362</td><td>1</td></tr><tr><td>3664363</td><td>0</td></tr><tr><td>3664364</td><td>0</td></tr><tr><td>3664365</td><td>0</td></tr><tr><td>3664366</td><td>0</td></tr><tr><td>3664367</td><td>0</td></tr><tr><td>3664368</td><td>1</td></tr><tr><td>3664369</td><td>0</td></tr><tr><td>3664370</td><td>0</td></tr><tr><td>3664371</td><td>0</td></tr><tr><td>3664372</td><td>0</td></tr><tr><td>3664373</td><td>0</td></tr><tr><td>3664374</td><td>0</td></tr><tr><td>3664375</td><td>0</td></tr><tr><td>3664376</td><td>0</td></tr><tr><td>3664377</td><td>1</td></tr><tr><td>3664378</td><td>0</td></tr><tr><td>3664379</td><td>0</td></tr><tr><td>3664380</td><td>0</td></tr><tr><td>3664381</td><td>0</td></tr><tr><td>3664382</td><td>0</td></tr><tr><td>3664383</td><td>0</td></tr><tr><td>3664384</td><td>0</td></tr><tr><td>3664385</td><td>0</td></tr><tr><td>3664386</td><td>0</td></tr><tr><td>3664387</td><td>0</td></tr><tr><td>3664388</td><td>0</td></tr><tr><td>3664389</td><td>0</td></tr><tr><td>3664390</td><td>1</td></tr><tr><td>3664391</td><td>0</td></tr><tr><td>3664392</td><td>0</td></tr><tr><td>3664393</td><td>0</td></tr><tr><td>3664394</td><td>0</td></tr><tr><td>3664395</td><td>1</td></tr><tr><td>3664396</td><td>1</td></tr><tr><td>3664397</td><td>0</td></tr><tr><td>3664398</td><td>1</td></tr><tr><td>3664399</td><td>1</td></tr><tr><td>3664400</td><td>1</td></tr><tr><td>3664401</td><td>1</td></tr><tr><td>3664402</td><td>1</td></tr><tr><td>3664403</td><td>1</td></tr><tr><td>3664404</td><td>1</td></tr><tr><td>3664405</td><td>1</td></tr><tr><td>3664406</td><td>1</td></tr><tr><td>3664407</td><td>0</td></tr><tr><td>3664408</td><td>1</td></tr><tr><td>3664409</td><td>1</td></tr><tr><td>3664410</td><td>1</td></tr><tr><td>3664411</td><td>1</td></tr><tr><td>3664412</td><td>1</td></tr><tr><td>3664413</td><td>1</td></tr><tr><td>3664414</td><td>1</td></tr><tr><td>3664415</td><td>1</td></tr><tr><td>3664416</td><td>1</td></tr><tr><td>3664417</td><td>1</td></tr><tr><td>3664418</td><td>1</td></tr><tr><td>3664419</td><td>1</td></tr><tr><td>3664420</td><td>1</td></tr><tr><td>3664421</td><td>1</td></tr><tr><td>3664422</td><td>1</td></tr><tr><td>3664423</td><td>1</td></tr><tr><td>3664424</td><td>1</td></tr><tr><td>3664425</td><td>1</td></tr><tr><td>3664426</td><td>1</td></tr><tr><td>3664427</td><td>1</td></tr><tr><td>3664428</td><td>1</td></tr><tr><td>3664429</td><td>0</td></tr><tr><td>3664430</td><td>0</td></tr><tr><td>3664431</td><td>0</td></tr><tr><td>3664432</td><td>0</td></tr><tr><td>3664433</td><td>0</td></tr><tr><td>3664434</td><td>0</td></tr><tr><td>3664435</td><td>0</td></tr><tr><td>3664436</td><td>1</td></tr><tr><td>3664437</td><td>0</td></tr><tr><td>3664438</td><td>0</td></tr><tr><td>3664439</td><td>1</td></tr><tr><td>3664440</td><td>0</td></tr><tr><td>3664441</td><td>0</td></tr><tr><td>3664442</td><td>0</td></tr><tr><td>3664443</td><td>1</td></tr><tr><td>3664444</td><td>0</td></tr><tr><td>3664445</td><td>0</td></tr><tr><td>3664446</td><td>0</td></tr><tr><td>3664447</td><td>0</td></tr><tr><td>3664448</td><td>0</td></tr><tr><td>3664449</td><td>0</td></tr><tr><td>3664450</td><td>0</td></tr><tr><td>3664451</td><td>0</td></tr><tr><td>3664452</td><td>0</td></tr><tr><td>3664453</td><td>0</td></tr><tr><td>3664454</td><td>0</td></tr><tr><td>3664455</td><td>0</td></tr><tr><td>3664456</td><td>1</td></tr><tr><td>3664457</td><td>0</td></tr><tr><td>3664458</td><td>0</td></tr><tr><td>3664459</td><td>0</td></tr><tr><td>3664460</td><td>0</td></tr><tr><td>3664461</td><td>0</td></tr><tr><td>3664462</td><td>1</td></tr><tr><td>3664463</td><td>0</td></tr><tr><td>3664464</td><td>1</td></tr><tr><td>3664465</td><td>0</td></tr><tr><td>3664466</td><td>1</td></tr><tr><td>3664467</td><td>0</td></tr><tr><td>3664468</td><td>0</td></tr><tr><td>3664469</td><td>0</td></tr><tr><td>3664470</td><td>0</td></tr><tr><td>3664471</td><td>0</td></tr><tr><td>3664472</td><td>0</td></tr><tr><td>3664473</td><td>0</td></tr><tr><td>3664474</td><td>0</td></tr><tr><td>3664475</td><td>1</td></tr><tr><td>3664476</td><td>1</td></tr><tr><td>3664477</td><td>1</td></tr><tr><td>3664478</td><td>1</td></tr><tr><td>3664479</td><td>1</td></tr><tr><td>3664480</td><td>1</td></tr><tr><td>3664481</td><td>1</td></tr><tr><td>3664482</td><td>1</td></tr><tr><td>3664483</td><td>1</td></tr><tr><td>3664484</td><td>1</td></tr><tr><td>3664485</td><td>1</td></tr><tr><td>3664486</td><td>1</td></tr><tr><td>3664487</td><td>1</td></tr><tr><td>3664488</td><td>1</td></tr><tr><td>3664489</td><td>1</td></tr><tr><td>3664490</td><td>1</td></tr><tr><td>3664491</td><td>1</td></tr><tr><td>3664492</td><td>1</td></tr><tr><td>3664493</td><td>1</td></tr><tr><td>3664494</td><td>1</td></tr><tr><td>3664495</td><td>1</td></tr><tr><td>3664496</td><td>1</td></tr><tr><td>3664497</td><td>1</td></tr><tr><td>3664498</td><td>1</td></tr><tr><td>3664499</td><td>1</td></tr><tr><td>3664500</td><td>1</td></tr><tr><td>3664501</td><td>1</td></tr><tr><td>3664502</td><td>1</td></tr><tr><td>3664503</td><td>1</td></tr><tr><td>3664504</td><td>0</td></tr><tr><td>3664505</td><td>1</td></tr><tr><td>3664506</td><td>0</td></tr><tr><td>3664507</td><td>0</td></tr><tr><td>3664508</td><td>0</td></tr><tr><td>3664509</td><td>0</td></tr><tr><td>3664510</td><td>0</td></tr><tr><td>3664511</td><td>1</td></tr><tr><td>3664512</td><td>1</td></tr><tr><td>3664513</td><td>0</td></tr><tr><td>3664514</td><td>0</td></tr><tr><td>3664515</td><td>0</td></tr><tr><td>3664516</td><td>0</td></tr><tr><td>3664517</td><td>1</td></tr><tr><td>3664518</td><td>0</td></tr><tr><td>3664519</td><td>0</td></tr><tr><td>3664520</td><td>0</td></tr><tr><td>3664521</td><td>1</td></tr><tr><td>3664522</td><td>1</td></tr><tr><td>3664523</td><td>0</td></tr><tr><td>3664524</td><td>1</td></tr><tr><td>3664525</td><td>0</td></tr><tr><td>3664526</td><td>0</td></tr><tr><td>3664527</td><td>1</td></tr><tr><td>3664528</td><td>0</td></tr><tr><td>3664529</td><td>0</td></tr><tr><td>3664530</td><td>0</td></tr><tr><td>3664531</td><td>1</td></tr><tr><td>3664532</td><td>0</td></tr><tr><td>3664533</td><td>0</td></tr><tr><td>3664534</td><td>1</td></tr><tr><td>3664535</td><td>0</td></tr><tr><td>3664536</td><td>0</td></tr><tr><td>3664537</td><td>1</td></tr><tr><td>3664538</td><td>0</td></tr><tr><td>3664539</td><td>0</td></tr><tr><td>3664540</td><td>0</td></tr><tr><td>3664541</td><td>0</td></tr><tr><td>3664542</td><td>0</td></tr><tr><td>3664543</td><td>0</td></tr><tr><td>3664544</td><td>1</td></tr><tr><td>3664545</td><td>0</td></tr><tr><td>3664546</td><td>0</td></tr><tr><td>3664547</td><td>0</td></tr><tr><td>3664548</td><td>0</td></tr></tbody></table>Showing the first 1000 rows.</div>"
      ]
     },
     "metadata": {
      "application/vnd.databricks.v1+output": {
       "addedWidgets": {},
       "aggData": [],
       "aggError": "",
       "aggOverflow": false,
       "aggSchema": [],
       "aggSeriesLimitReached": false,
       "aggType": "",
       "arguments": {},
       "columnCustomDisplayInfos": {},
       "data": [
        [
         3663549,
         0
        ],
        [
         3663550,
         0
        ],
        [
         3663551,
         0
        ],
        [
         3663552,
         0
        ],
        [
         3663553,
         1
        ],
        [
         3663554,
         0
        ],
        [
         3663555,
         0
        ],
        [
         3663556,
         1
        ],
        [
         3663557,
         0
        ],
        [
         3663558,
         1
        ],
        [
         3663559,
         0
        ],
        [
         3663560,
         0
        ],
        [
         3663561,
         0
        ],
        [
         3663562,
         0
        ],
        [
         3663563,
         0
        ],
        [
         3663564,
         0
        ],
        [
         3663565,
         0
        ],
        [
         3663566,
         0
        ],
        [
         3663567,
         0
        ],
        [
         3663568,
         0
        ],
        [
         3663569,
         0
        ],
        [
         3663570,
         0
        ],
        [
         3663571,
         0
        ],
        [
         3663572,
         0
        ],
        [
         3663573,
         1
        ],
        [
         3663574,
         0
        ],
        [
         3663575,
         0
        ],
        [
         3663576,
         0
        ],
        [
         3663577,
         0
        ],
        [
         3663578,
         0
        ],
        [
         3663579,
         0
        ],
        [
         3663580,
         0
        ],
        [
         3663581,
         0
        ],
        [
         3663582,
         0
        ],
        [
         3663583,
         0
        ],
        [
         3663584,
         0
        ],
        [
         3663585,
         0
        ],
        [
         3663586,
         0
        ],
        [
         3663587,
         0
        ],
        [
         3663588,
         0
        ],
        [
         3663589,
         0
        ],
        [
         3663590,
         0
        ],
        [
         3663591,
         0
        ],
        [
         3663592,
         0
        ],
        [
         3663593,
         0
        ],
        [
         3663594,
         0
        ],
        [
         3663595,
         0
        ],
        [
         3663596,
         0
        ],
        [
         3663597,
         0
        ],
        [
         3663598,
         0
        ],
        [
         3663599,
         1
        ],
        [
         3663600,
         1
        ],
        [
         3663601,
         1
        ],
        [
         3663602,
         1
        ],
        [
         3663603,
         1
        ],
        [
         3663604,
         1
        ],
        [
         3663605,
         1
        ],
        [
         3663606,
         1
        ],
        [
         3663607,
         1
        ],
        [
         3663608,
         1
        ],
        [
         3663609,
         1
        ],
        [
         3663610,
         1
        ],
        [
         3663611,
         1
        ],
        [
         3663612,
         1
        ],
        [
         3663613,
         1
        ],
        [
         3663614,
         1
        ],
        [
         3663615,
         1
        ],
        [
         3663616,
         1
        ],
        [
         3663617,
         1
        ],
        [
         3663618,
         1
        ],
        [
         3663619,
         1
        ],
        [
         3663620,
         1
        ],
        [
         3663621,
         1
        ],
        [
         3663622,
         1
        ],
        [
         3663623,
         1
        ],
        [
         3663624,
         1
        ],
        [
         3663625,
         1
        ],
        [
         3663626,
         1
        ],
        [
         3663627,
         1
        ],
        [
         3663628,
         1
        ],
        [
         3663629,
         0
        ],
        [
         3663630,
         0
        ],
        [
         3663631,
         0
        ],
        [
         3663632,
         0
        ],
        [
         3663633,
         0
        ],
        [
         3663634,
         1
        ],
        [
         3663635,
         1
        ],
        [
         3663636,
         0
        ],
        [
         3663637,
         0
        ],
        [
         3663638,
         0
        ],
        [
         3663639,
         0
        ],
        [
         3663640,
         0
        ],
        [
         3663641,
         0
        ],
        [
         3663642,
         1
        ],
        [
         3663643,
         0
        ],
        [
         3663644,
         0
        ],
        [
         3663645,
         0
        ],
        [
         3663646,
         0
        ],
        [
         3663647,
         0
        ],
        [
         3663648,
         0
        ],
        [
         3663649,
         0
        ],
        [
         3663650,
         0
        ],
        [
         3663651,
         0
        ],
        [
         3663652,
         0
        ],
        [
         3663653,
         0
        ],
        [
         3663654,
         0
        ],
        [
         3663655,
         1
        ],
        [
         3663656,
         0
        ],
        [
         3663657,
         0
        ],
        [
         3663658,
         0
        ],
        [
         3663659,
         0
        ],
        [
         3663660,
         0
        ],
        [
         3663661,
         0
        ],
        [
         3663662,
         0
        ],
        [
         3663663,
         0
        ],
        [
         3663664,
         0
        ],
        [
         3663665,
         0
        ],
        [
         3663666,
         0
        ],
        [
         3663667,
         0
        ],
        [
         3663668,
         0
        ],
        [
         3663669,
         0
        ],
        [
         3663670,
         0
        ],
        [
         3663671,
         0
        ],
        [
         3663672,
         0
        ],
        [
         3663673,
         0
        ],
        [
         3663674,
         0
        ],
        [
         3663675,
         1
        ],
        [
         3663676,
         1
        ],
        [
         3663677,
         1
        ],
        [
         3663678,
         1
        ],
        [
         3663679,
         1
        ],
        [
         3663680,
         1
        ],
        [
         3663681,
         1
        ],
        [
         3663682,
         1
        ],
        [
         3663683,
         1
        ],
        [
         3663684,
         1
        ],
        [
         3663685,
         1
        ],
        [
         3663686,
         1
        ],
        [
         3663687,
         1
        ],
        [
         3663688,
         1
        ],
        [
         3663689,
         1
        ],
        [
         3663690,
         1
        ],
        [
         3663691,
         1
        ],
        [
         3663692,
         1
        ],
        [
         3663693,
         1
        ],
        [
         3663694,
         1
        ],
        [
         3663695,
         1
        ],
        [
         3663696,
         1
        ],
        [
         3663697,
         1
        ],
        [
         3663698,
         1
        ],
        [
         3663699,
         1
        ],
        [
         3663700,
         1
        ],
        [
         3663701,
         1
        ],
        [
         3663702,
         0
        ],
        [
         3663703,
         0
        ],
        [
         3663704,
         0
        ],
        [
         3663705,
         1
        ],
        [
         3663706,
         0
        ],
        [
         3663707,
         0
        ],
        [
         3663708,
         0
        ],
        [
         3663709,
         0
        ],
        [
         3663710,
         0
        ],
        [
         3663711,
         1
        ],
        [
         3663712,
         1
        ],
        [
         3663713,
         0
        ],
        [
         3663714,
         1
        ],
        [
         3663715,
         0
        ],
        [
         3663716,
         0
        ],
        [
         3663717,
         0
        ],
        [
         3663718,
         0
        ],
        [
         3663719,
         0
        ],
        [
         3663720,
         0
        ],
        [
         3663721,
         0
        ],
        [
         3663722,
         0
        ],
        [
         3663723,
         0
        ],
        [
         3663724,
         0
        ],
        [
         3663725,
         1
        ],
        [
         3663726,
         0
        ],
        [
         3663727,
         0
        ],
        [
         3663728,
         0
        ],
        [
         3663729,
         0
        ],
        [
         3663730,
         0
        ],
        [
         3663731,
         0
        ],
        [
         3663732,
         0
        ],
        [
         3663733,
         0
        ],
        [
         3663734,
         0
        ],
        [
         3663735,
         1
        ],
        [
         3663736,
         0
        ],
        [
         3663737,
         0
        ],
        [
         3663738,
         0
        ],
        [
         3663739,
         0
        ],
        [
         3663740,
         1
        ],
        [
         3663741,
         0
        ],
        [
         3663742,
         0
        ],
        [
         3663743,
         0
        ],
        [
         3663744,
         0
        ],
        [
         3663745,
         0
        ],
        [
         3663746,
         1
        ],
        [
         3663747,
         0
        ],
        [
         3663748,
         0
        ],
        [
         3663749,
         0
        ],
        [
         3663750,
         0
        ],
        [
         3663751,
         0
        ],
        [
         3663752,
         0
        ],
        [
         3663753,
         1
        ],
        [
         3663754,
         0
        ],
        [
         3663755,
         0
        ],
        [
         3663756,
         0
        ],
        [
         3663757,
         0
        ],
        [
         3663758,
         0
        ],
        [
         3663759,
         0
        ],
        [
         3663760,
         0
        ],
        [
         3663761,
         0
        ],
        [
         3663762,
         0
        ],
        [
         3663763,
         0
        ],
        [
         3663764,
         0
        ],
        [
         3663765,
         0
        ],
        [
         3663766,
         0
        ],
        [
         3663767,
         1
        ],
        [
         3663768,
         0
        ],
        [
         3663769,
         0
        ],
        [
         3663770,
         0
        ],
        [
         3663771,
         0
        ],
        [
         3663772,
         0
        ],
        [
         3663773,
         1
        ],
        [
         3663774,
         1
        ],
        [
         3663775,
         1
        ],
        [
         3663776,
         1
        ],
        [
         3663777,
         1
        ],
        [
         3663778,
         1
        ],
        [
         3663779,
         1
        ],
        [
         3663780,
         1
        ],
        [
         3663781,
         1
        ],
        [
         3663782,
         1
        ],
        [
         3663783,
         1
        ],
        [
         3663784,
         1
        ],
        [
         3663785,
         1
        ],
        [
         3663786,
         1
        ],
        [
         3663787,
         1
        ],
        [
         3663788,
         1
        ],
        [
         3663789,
         1
        ],
        [
         3663790,
         1
        ],
        [
         3663791,
         1
        ],
        [
         3663792,
         1
        ],
        [
         3663793,
         1
        ],
        [
         3663794,
         0
        ],
        [
         3663795,
         1
        ],
        [
         3663796,
         1
        ],
        [
         3663797,
         1
        ],
        [
         3663798,
         1
        ],
        [
         3663799,
         1
        ],
        [
         3663800,
         1
        ],
        [
         3663801,
         1
        ],
        [
         3663802,
         1
        ],
        [
         3663803,
         1
        ],
        [
         3663804,
         0
        ],
        [
         3663805,
         0
        ],
        [
         3663806,
         0
        ],
        [
         3663807,
         0
        ],
        [
         3663808,
         0
        ],
        [
         3663809,
         0
        ],
        [
         3663810,
         0
        ],
        [
         3663811,
         0
        ],
        [
         3663812,
         0
        ],
        [
         3663813,
         0
        ],
        [
         3663814,
         0
        ],
        [
         3663815,
         0
        ],
        [
         3663816,
         1
        ],
        [
         3663817,
         1
        ],
        [
         3663818,
         0
        ],
        [
         3663819,
         0
        ],
        [
         3663820,
         0
        ],
        [
         3663821,
         0
        ],
        [
         3663822,
         0
        ],
        [
         3663823,
         0
        ],
        [
         3663824,
         1
        ],
        [
         3663825,
         0
        ],
        [
         3663826,
         0
        ],
        [
         3663827,
         0
        ],
        [
         3663828,
         0
        ],
        [
         3663829,
         0
        ],
        [
         3663830,
         0
        ],
        [
         3663831,
         0
        ],
        [
         3663832,
         0
        ],
        [
         3663833,
         0
        ],
        [
         3663834,
         0
        ],
        [
         3663835,
         0
        ],
        [
         3663836,
         0
        ],
        [
         3663837,
         0
        ],
        [
         3663838,
         0
        ],
        [
         3663839,
         0
        ],
        [
         3663840,
         0
        ],
        [
         3663841,
         0
        ],
        [
         3663842,
         0
        ],
        [
         3663843,
         0
        ],
        [
         3663844,
         0
        ],
        [
         3663845,
         1
        ],
        [
         3663846,
         0
        ],
        [
         3663847,
         0
        ],
        [
         3663848,
         1
        ],
        [
         3663849,
         0
        ],
        [
         3663850,
         0
        ],
        [
         3663851,
         0
        ],
        [
         3663852,
         1
        ],
        [
         3663853,
         1
        ],
        [
         3663854,
         1
        ],
        [
         3663855,
         0
        ],
        [
         3663856,
         0
        ],
        [
         3663857,
         0
        ],
        [
         3663858,
         1
        ],
        [
         3663859,
         1
        ],
        [
         3663860,
         1
        ],
        [
         3663861,
         1
        ],
        [
         3663862,
         1
        ],
        [
         3663863,
         1
        ],
        [
         3663864,
         1
        ],
        [
         3663865,
         1
        ],
        [
         3663866,
         1
        ],
        [
         3663867,
         1
        ],
        [
         3663868,
         1
        ],
        [
         3663869,
         1
        ],
        [
         3663870,
         1
        ],
        [
         3663871,
         1
        ],
        [
         3663872,
         1
        ],
        [
         3663873,
         0
        ],
        [
         3663874,
         1
        ],
        [
         3663875,
         1
        ],
        [
         3663876,
         1
        ],
        [
         3663877,
         1
        ],
        [
         3663878,
         1
        ],
        [
         3663879,
         1
        ],
        [
         3663880,
         1
        ],
        [
         3663881,
         1
        ],
        [
         3663882,
         0
        ],
        [
         3663883,
         1
        ],
        [
         3663884,
         1
        ],
        [
         3663885,
         0
        ],
        [
         3663886,
         1
        ],
        [
         3663887,
         0
        ],
        [
         3663888,
         1
        ],
        [
         3663889,
         1
        ],
        [
         3663890,
         0
        ],
        [
         3663891,
         0
        ],
        [
         3663892,
         1
        ],
        [
         3663893,
         1
        ],
        [
         3663894,
         1
        ],
        [
         3663895,
         0
        ],
        [
         3663896,
         1
        ],
        [
         3663897,
         0
        ],
        [
         3663898,
         0
        ],
        [
         3663899,
         0
        ],
        [
         3663900,
         0
        ],
        [
         3663901,
         0
        ],
        [
         3663902,
         0
        ],
        [
         3663903,
         0
        ],
        [
         3663904,
         0
        ],
        [
         3663905,
         1
        ],
        [
         3663906,
         1
        ],
        [
         3663907,
         0
        ],
        [
         3663908,
         0
        ],
        [
         3663909,
         0
        ],
        [
         3663910,
         0
        ],
        [
         3663911,
         0
        ],
        [
         3663912,
         0
        ],
        [
         3663913,
         0
        ],
        [
         3663914,
         0
        ],
        [
         3663915,
         0
        ],
        [
         3663916,
         1
        ],
        [
         3663917,
         0
        ],
        [
         3663918,
         0
        ],
        [
         3663919,
         0
        ],
        [
         3663920,
         0
        ],
        [
         3663921,
         0
        ],
        [
         3663922,
         0
        ],
        [
         3663923,
         1
        ],
        [
         3663924,
         1
        ],
        [
         3663925,
         0
        ],
        [
         3663926,
         0
        ],
        [
         3663927,
         0
        ],
        [
         3663928,
         0
        ],
        [
         3663929,
         0
        ],
        [
         3663930,
         0
        ],
        [
         3663931,
         0
        ],
        [
         3663932,
         1
        ],
        [
         3663933,
         1
        ],
        [
         3663934,
         1
        ],
        [
         3663935,
         1
        ],
        [
         3663936,
         1
        ],
        [
         3663937,
         1
        ],
        [
         3663938,
         1
        ],
        [
         3663939,
         1
        ],
        [
         3663940,
         1
        ],
        [
         3663941,
         1
        ],
        [
         3663942,
         1
        ],
        [
         3663943,
         1
        ],
        [
         3663944,
         1
        ],
        [
         3663945,
         1
        ],
        [
         3663946,
         1
        ],
        [
         3663947,
         1
        ],
        [
         3663948,
         1
        ],
        [
         3663949,
         1
        ],
        [
         3663950,
         1
        ],
        [
         3663951,
         1
        ],
        [
         3663952,
         1
        ],
        [
         3663953,
         1
        ],
        [
         3663954,
         1
        ],
        [
         3663955,
         1
        ],
        [
         3663956,
         1
        ],
        [
         3663957,
         1
        ],
        [
         3663958,
         1
        ],
        [
         3663959,
         1
        ],
        [
         3663960,
         1
        ],
        [
         3663961,
         1
        ],
        [
         3663962,
         0
        ],
        [
         3663963,
         0
        ],
        [
         3663964,
         0
        ],
        [
         3663965,
         0
        ],
        [
         3663966,
         0
        ],
        [
         3663967,
         1
        ],
        [
         3663968,
         0
        ],
        [
         3663969,
         0
        ],
        [
         3663970,
         1
        ],
        [
         3663971,
         0
        ],
        [
         3663972,
         0
        ],
        [
         3663973,
         0
        ],
        [
         3663974,
         0
        ],
        [
         3663975,
         0
        ],
        [
         3663976,
         0
        ],
        [
         3663977,
         0
        ],
        [
         3663978,
         0
        ],
        [
         3663979,
         0
        ],
        [
         3663980,
         0
        ],
        [
         3663981,
         0
        ],
        [
         3663982,
         0
        ],
        [
         3663983,
         0
        ],
        [
         3663984,
         0
        ],
        [
         3663985,
         0
        ],
        [
         3663986,
         0
        ],
        [
         3663987,
         0
        ],
        [
         3663988,
         0
        ],
        [
         3663989,
         0
        ],
        [
         3663990,
         1
        ],
        [
         3663991,
         0
        ],
        [
         3663992,
         0
        ],
        [
         3663993,
         0
        ],
        [
         3663994,
         0
        ],
        [
         3663995,
         0
        ],
        [
         3663996,
         0
        ],
        [
         3663997,
         0
        ],
        [
         3663998,
         0
        ],
        [
         3663999,
         0
        ],
        [
         3664000,
         1
        ],
        [
         3664001,
         0
        ],
        [
         3664002,
         0
        ],
        [
         3664003,
         0
        ],
        [
         3664004,
         0
        ],
        [
         3664005,
         0
        ],
        [
         3664006,
         0
        ],
        [
         3664007,
         0
        ],
        [
         3664008,
         0
        ],
        [
         3664009,
         0
        ],
        [
         3664010,
         0
        ],
        [
         3664011,
         1
        ],
        [
         3664012,
         1
        ],
        [
         3664013,
         1
        ],
        [
         3664014,
         1
        ],
        [
         3664015,
         1
        ],
        [
         3664016,
         1
        ],
        [
         3664017,
         1
        ],
        [
         3664018,
         1
        ],
        [
         3664019,
         1
        ],
        [
         3664020,
         1
        ],
        [
         3664021,
         1
        ],
        [
         3664022,
         1
        ],
        [
         3664023,
         1
        ],
        [
         3664024,
         1
        ],
        [
         3664025,
         1
        ],
        [
         3664026,
         1
        ],
        [
         3664027,
         1
        ],
        [
         3664028,
         1
        ],
        [
         3664029,
         1
        ],
        [
         3664030,
         1
        ],
        [
         3664031,
         1
        ],
        [
         3664032,
         1
        ],
        [
         3664033,
         1
        ],
        [
         3664034,
         1
        ],
        [
         3664035,
         1
        ],
        [
         3664036,
         1
        ],
        [
         3664037,
         1
        ],
        [
         3664038,
         1
        ],
        [
         3664039,
         1
        ],
        [
         3664040,
         1
        ],
        [
         3664041,
         1
        ],
        [
         3664042,
         1
        ],
        [
         3664043,
         1
        ],
        [
         3664044,
         1
        ],
        [
         3664045,
         1
        ],
        [
         3664046,
         1
        ],
        [
         3664047,
         1
        ],
        [
         3664048,
         1
        ],
        [
         3664049,
         1
        ],
        [
         3664050,
         1
        ],
        [
         3664051,
         1
        ],
        [
         3664052,
         1
        ],
        [
         3664053,
         0
        ],
        [
         3664054,
         0
        ],
        [
         3664055,
         0
        ],
        [
         3664056,
         1
        ],
        [
         3664057,
         0
        ],
        [
         3664058,
         1
        ],
        [
         3664059,
         0
        ],
        [
         3664060,
         0
        ],
        [
         3664061,
         0
        ],
        [
         3664062,
         0
        ],
        [
         3664063,
         0
        ],
        [
         3664064,
         0
        ],
        [
         3664065,
         1
        ],
        [
         3664066,
         0
        ],
        [
         3664067,
         0
        ],
        [
         3664068,
         1
        ],
        [
         3664069,
         1
        ],
        [
         3664070,
         1
        ],
        [
         3664071,
         0
        ],
        [
         3664072,
         0
        ],
        [
         3664073,
         0
        ],
        [
         3664074,
         1
        ],
        [
         3664075,
         0
        ],
        [
         3664076,
         0
        ],
        [
         3664077,
         1
        ],
        [
         3664078,
         0
        ],
        [
         3664079,
         0
        ],
        [
         3664080,
         0
        ],
        [
         3664081,
         0
        ],
        [
         3664082,
         0
        ],
        [
         3664083,
         0
        ],
        [
         3664084,
         0
        ],
        [
         3664085,
         0
        ],
        [
         3664086,
         0
        ],
        [
         3664087,
         0
        ],
        [
         3664088,
         0
        ],
        [
         3664089,
         0
        ],
        [
         3664090,
         0
        ],
        [
         3664091,
         0
        ],
        [
         3664092,
         1
        ],
        [
         3664093,
         0
        ],
        [
         3664094,
         0
        ],
        [
         3664095,
         0
        ],
        [
         3664096,
         0
        ],
        [
         3664097,
         0
        ],
        [
         3664098,
         1
        ],
        [
         3664099,
         0
        ],
        [
         3664100,
         0
        ],
        [
         3664101,
         0
        ],
        [
         3664102,
         0
        ],
        [
         3664103,
         0
        ],
        [
         3664104,
         1
        ],
        [
         3664105,
         0
        ],
        [
         3664106,
         0
        ],
        [
         3664107,
         1
        ],
        [
         3664108,
         0
        ],
        [
         3664109,
         0
        ],
        [
         3664110,
         1
        ],
        [
         3664111,
         1
        ],
        [
         3664112,
         0
        ],
        [
         3664113,
         1
        ],
        [
         3664114,
         1
        ],
        [
         3664115,
         1
        ],
        [
         3664116,
         1
        ],
        [
         3664117,
         1
        ],
        [
         3664118,
         1
        ],
        [
         3664119,
         1
        ],
        [
         3664120,
         1
        ],
        [
         3664121,
         1
        ],
        [
         3664122,
         1
        ],
        [
         3664123,
         1
        ],
        [
         3664124,
         1
        ],
        [
         3664125,
         1
        ],
        [
         3664126,
         1
        ],
        [
         3664127,
         1
        ],
        [
         3664128,
         1
        ],
        [
         3664129,
         1
        ],
        [
         3664130,
         1
        ],
        [
         3664131,
         1
        ],
        [
         3664132,
         1
        ],
        [
         3664133,
         1
        ],
        [
         3664134,
         1
        ],
        [
         3664135,
         1
        ],
        [
         3664136,
         1
        ],
        [
         3664137,
         1
        ],
        [
         3664138,
         1
        ],
        [
         3664139,
         1
        ],
        [
         3664140,
         0
        ],
        [
         3664141,
         0
        ],
        [
         3664142,
         1
        ],
        [
         3664143,
         0
        ],
        [
         3664144,
         0
        ],
        [
         3664145,
         0
        ],
        [
         3664146,
         1
        ],
        [
         3664147,
         0
        ],
        [
         3664148,
         0
        ],
        [
         3664149,
         0
        ],
        [
         3664150,
         0
        ],
        [
         3664151,
         1
        ],
        [
         3664152,
         1
        ],
        [
         3664153,
         0
        ],
        [
         3664154,
         0
        ],
        [
         3664155,
         0
        ],
        [
         3664156,
         0
        ],
        [
         3664157,
         1
        ],
        [
         3664158,
         1
        ],
        [
         3664159,
         0
        ],
        [
         3664160,
         0
        ],
        [
         3664161,
         0
        ],
        [
         3664162,
         0
        ],
        [
         3664163,
         0
        ],
        [
         3664164,
         1
        ],
        [
         3664165,
         0
        ],
        [
         3664166,
         0
        ],
        [
         3664167,
         0
        ],
        [
         3664168,
         0
        ],
        [
         3664169,
         0
        ],
        [
         3664170,
         0
        ],
        [
         3664171,
         0
        ],
        [
         3664172,
         0
        ],
        [
         3664173,
         0
        ],
        [
         3664174,
         0
        ],
        [
         3664175,
         0
        ],
        [
         3664176,
         0
        ],
        [
         3664177,
         0
        ],
        [
         3664178,
         1
        ],
        [
         3664179,
         1
        ],
        [
         3664180,
         1
        ],
        [
         3664181,
         1
        ],
        [
         3664182,
         1
        ],
        [
         3664183,
         1
        ],
        [
         3664184,
         1
        ],
        [
         3664185,
         1
        ],
        [
         3664186,
         1
        ],
        [
         3664187,
         1
        ],
        [
         3664188,
         1
        ],
        [
         3664189,
         1
        ],
        [
         3664190,
         1
        ],
        [
         3664191,
         1
        ],
        [
         3664192,
         1
        ],
        [
         3664193,
         1
        ],
        [
         3664194,
         1
        ],
        [
         3664195,
         1
        ],
        [
         3664196,
         1
        ],
        [
         3664197,
         1
        ],
        [
         3664198,
         1
        ],
        [
         3664199,
         1
        ],
        [
         3664200,
         0
        ],
        [
         3664201,
         0
        ],
        [
         3664202,
         1
        ],
        [
         3664203,
         0
        ],
        [
         3664204,
         0
        ],
        [
         3664205,
         0
        ],
        [
         3664206,
         0
        ],
        [
         3664207,
         0
        ],
        [
         3664208,
         0
        ],
        [
         3664209,
         0
        ],
        [
         3664210,
         0
        ],
        [
         3664211,
         0
        ],
        [
         3664212,
         0
        ],
        [
         3664213,
         0
        ],
        [
         3664214,
         0
        ],
        [
         3664215,
         0
        ],
        [
         3664216,
         0
        ],
        [
         3664217,
         0
        ],
        [
         3664218,
         0
        ],
        [
         3664219,
         0
        ],
        [
         3664220,
         0
        ],
        [
         3664221,
         0
        ],
        [
         3664222,
         1
        ],
        [
         3664223,
         1
        ],
        [
         3664224,
         0
        ],
        [
         3664225,
         0
        ],
        [
         3664226,
         0
        ],
        [
         3664227,
         0
        ],
        [
         3664228,
         0
        ],
        [
         3664229,
         0
        ],
        [
         3664230,
         0
        ],
        [
         3664231,
         0
        ],
        [
         3664232,
         0
        ],
        [
         3664233,
         0
        ],
        [
         3664234,
         0
        ],
        [
         3664235,
         0
        ],
        [
         3664236,
         0
        ],
        [
         3664237,
         0
        ],
        [
         3664238,
         0
        ],
        [
         3664239,
         0
        ],
        [
         3664240,
         1
        ],
        [
         3664241,
         0
        ],
        [
         3664242,
         0
        ],
        [
         3664243,
         0
        ],
        [
         3664244,
         0
        ],
        [
         3664245,
         1
        ],
        [
         3664246,
         1
        ],
        [
         3664247,
         1
        ],
        [
         3664248,
         1
        ],
        [
         3664249,
         1
        ],
        [
         3664250,
         1
        ],
        [
         3664251,
         1
        ],
        [
         3664252,
         1
        ],
        [
         3664253,
         1
        ],
        [
         3664254,
         1
        ],
        [
         3664255,
         1
        ],
        [
         3664256,
         1
        ],
        [
         3664257,
         1
        ],
        [
         3664258,
         1
        ],
        [
         3664259,
         1
        ],
        [
         3664260,
         1
        ],
        [
         3664261,
         1
        ],
        [
         3664262,
         1
        ],
        [
         3664263,
         1
        ],
        [
         3664264,
         1
        ],
        [
         3664265,
         1
        ],
        [
         3664266,
         1
        ],
        [
         3664267,
         1
        ],
        [
         3664268,
         1
        ],
        [
         3664269,
         1
        ],
        [
         3664270,
         1
        ],
        [
         3664271,
         1
        ],
        [
         3664272,
         1
        ],
        [
         3664273,
         1
        ],
        [
         3664274,
         1
        ],
        [
         3664275,
         1
        ],
        [
         3664276,
         1
        ],
        [
         3664277,
         1
        ],
        [
         3664278,
         0
        ],
        [
         3664279,
         0
        ],
        [
         3664280,
         1
        ],
        [
         3664281,
         0
        ],
        [
         3664282,
         0
        ],
        [
         3664283,
         0
        ],
        [
         3664284,
         0
        ],
        [
         3664285,
         0
        ],
        [
         3664286,
         0
        ],
        [
         3664287,
         0
        ],
        [
         3664288,
         0
        ],
        [
         3664289,
         0
        ],
        [
         3664290,
         0
        ],
        [
         3664291,
         0
        ],
        [
         3664292,
         0
        ],
        [
         3664293,
         0
        ],
        [
         3664294,
         0
        ],
        [
         3664295,
         0
        ],
        [
         3664296,
         0
        ],
        [
         3664297,
         0
        ],
        [
         3664298,
         0
        ],
        [
         3664299,
         0
        ],
        [
         3664300,
         0
        ],
        [
         3664301,
         0
        ],
        [
         3664302,
         0
        ],
        [
         3664303,
         0
        ],
        [
         3664304,
         0
        ],
        [
         3664305,
         0
        ],
        [
         3664306,
         0
        ],
        [
         3664307,
         0
        ],
        [
         3664308,
         1
        ],
        [
         3664309,
         0
        ],
        [
         3664310,
         0
        ],
        [
         3664311,
         0
        ],
        [
         3664312,
         0
        ],
        [
         3664313,
         0
        ],
        [
         3664314,
         0
        ],
        [
         3664315,
         0
        ],
        [
         3664316,
         0
        ],
        [
         3664317,
         0
        ],
        [
         3664318,
         0
        ],
        [
         3664319,
         0
        ],
        [
         3664320,
         0
        ],
        [
         3664321,
         1
        ],
        [
         3664322,
         0
        ],
        [
         3664323,
         0
        ],
        [
         3664324,
         0
        ],
        [
         3664325,
         1
        ],
        [
         3664326,
         1
        ],
        [
         3664327,
         1
        ],
        [
         3664328,
         1
        ],
        [
         3664329,
         1
        ],
        [
         3664330,
         1
        ],
        [
         3664331,
         1
        ],
        [
         3664332,
         1
        ],
        [
         3664333,
         1
        ],
        [
         3664334,
         1
        ],
        [
         3664335,
         1
        ],
        [
         3664336,
         1
        ],
        [
         3664337,
         1
        ],
        [
         3664338,
         1
        ],
        [
         3664339,
         1
        ],
        [
         3664340,
         1
        ],
        [
         3664341,
         1
        ],
        [
         3664342,
         1
        ],
        [
         3664343,
         1
        ],
        [
         3664344,
         1
        ],
        [
         3664345,
         1
        ],
        [
         3664346,
         1
        ],
        [
         3664347,
         1
        ],
        [
         3664348,
         1
        ],
        [
         3664349,
         1
        ],
        [
         3664350,
         1
        ],
        [
         3664351,
         1
        ],
        [
         3664352,
         0
        ],
        [
         3664353,
         0
        ],
        [
         3664354,
         0
        ],
        [
         3664355,
         0
        ],
        [
         3664356,
         0
        ],
        [
         3664357,
         0
        ],
        [
         3664358,
         0
        ],
        [
         3664359,
         1
        ],
        [
         3664360,
         0
        ],
        [
         3664361,
         0
        ],
        [
         3664362,
         1
        ],
        [
         3664363,
         0
        ],
        [
         3664364,
         0
        ],
        [
         3664365,
         0
        ],
        [
         3664366,
         0
        ],
        [
         3664367,
         0
        ],
        [
         3664368,
         1
        ],
        [
         3664369,
         0
        ],
        [
         3664370,
         0
        ],
        [
         3664371,
         0
        ],
        [
         3664372,
         0
        ],
        [
         3664373,
         0
        ],
        [
         3664374,
         0
        ],
        [
         3664375,
         0
        ],
        [
         3664376,
         0
        ],
        [
         3664377,
         1
        ],
        [
         3664378,
         0
        ],
        [
         3664379,
         0
        ],
        [
         3664380,
         0
        ],
        [
         3664381,
         0
        ],
        [
         3664382,
         0
        ],
        [
         3664383,
         0
        ],
        [
         3664384,
         0
        ],
        [
         3664385,
         0
        ],
        [
         3664386,
         0
        ],
        [
         3664387,
         0
        ],
        [
         3664388,
         0
        ],
        [
         3664389,
         0
        ],
        [
         3664390,
         1
        ],
        [
         3664391,
         0
        ],
        [
         3664392,
         0
        ],
        [
         3664393,
         0
        ],
        [
         3664394,
         0
        ],
        [
         3664395,
         1
        ],
        [
         3664396,
         1
        ],
        [
         3664397,
         0
        ],
        [
         3664398,
         1
        ],
        [
         3664399,
         1
        ],
        [
         3664400,
         1
        ],
        [
         3664401,
         1
        ],
        [
         3664402,
         1
        ],
        [
         3664403,
         1
        ],
        [
         3664404,
         1
        ],
        [
         3664405,
         1
        ],
        [
         3664406,
         1
        ],
        [
         3664407,
         0
        ],
        [
         3664408,
         1
        ],
        [
         3664409,
         1
        ],
        [
         3664410,
         1
        ],
        [
         3664411,
         1
        ],
        [
         3664412,
         1
        ],
        [
         3664413,
         1
        ],
        [
         3664414,
         1
        ],
        [
         3664415,
         1
        ],
        [
         3664416,
         1
        ],
        [
         3664417,
         1
        ],
        [
         3664418,
         1
        ],
        [
         3664419,
         1
        ],
        [
         3664420,
         1
        ],
        [
         3664421,
         1
        ],
        [
         3664422,
         1
        ],
        [
         3664423,
         1
        ],
        [
         3664424,
         1
        ],
        [
         3664425,
         1
        ],
        [
         3664426,
         1
        ],
        [
         3664427,
         1
        ],
        [
         3664428,
         1
        ],
        [
         3664429,
         0
        ],
        [
         3664430,
         0
        ],
        [
         3664431,
         0
        ],
        [
         3664432,
         0
        ],
        [
         3664433,
         0
        ],
        [
         3664434,
         0
        ],
        [
         3664435,
         0
        ],
        [
         3664436,
         1
        ],
        [
         3664437,
         0
        ],
        [
         3664438,
         0
        ],
        [
         3664439,
         1
        ],
        [
         3664440,
         0
        ],
        [
         3664441,
         0
        ],
        [
         3664442,
         0
        ],
        [
         3664443,
         1
        ],
        [
         3664444,
         0
        ],
        [
         3664445,
         0
        ],
        [
         3664446,
         0
        ],
        [
         3664447,
         0
        ],
        [
         3664448,
         0
        ],
        [
         3664449,
         0
        ],
        [
         3664450,
         0
        ],
        [
         3664451,
         0
        ],
        [
         3664452,
         0
        ],
        [
         3664453,
         0
        ],
        [
         3664454,
         0
        ],
        [
         3664455,
         0
        ],
        [
         3664456,
         1
        ],
        [
         3664457,
         0
        ],
        [
         3664458,
         0
        ],
        [
         3664459,
         0
        ],
        [
         3664460,
         0
        ],
        [
         3664461,
         0
        ],
        [
         3664462,
         1
        ],
        [
         3664463,
         0
        ],
        [
         3664464,
         1
        ],
        [
         3664465,
         0
        ],
        [
         3664466,
         1
        ],
        [
         3664467,
         0
        ],
        [
         3664468,
         0
        ],
        [
         3664469,
         0
        ],
        [
         3664470,
         0
        ],
        [
         3664471,
         0
        ],
        [
         3664472,
         0
        ],
        [
         3664473,
         0
        ],
        [
         3664474,
         0
        ],
        [
         3664475,
         1
        ],
        [
         3664476,
         1
        ],
        [
         3664477,
         1
        ],
        [
         3664478,
         1
        ],
        [
         3664479,
         1
        ],
        [
         3664480,
         1
        ],
        [
         3664481,
         1
        ],
        [
         3664482,
         1
        ],
        [
         3664483,
         1
        ],
        [
         3664484,
         1
        ],
        [
         3664485,
         1
        ],
        [
         3664486,
         1
        ],
        [
         3664487,
         1
        ],
        [
         3664488,
         1
        ],
        [
         3664489,
         1
        ],
        [
         3664490,
         1
        ],
        [
         3664491,
         1
        ],
        [
         3664492,
         1
        ],
        [
         3664493,
         1
        ],
        [
         3664494,
         1
        ],
        [
         3664495,
         1
        ],
        [
         3664496,
         1
        ],
        [
         3664497,
         1
        ],
        [
         3664498,
         1
        ],
        [
         3664499,
         1
        ],
        [
         3664500,
         1
        ],
        [
         3664501,
         1
        ],
        [
         3664502,
         1
        ],
        [
         3664503,
         1
        ],
        [
         3664504,
         0
        ],
        [
         3664505,
         1
        ],
        [
         3664506,
         0
        ],
        [
         3664507,
         0
        ],
        [
         3664508,
         0
        ],
        [
         3664509,
         0
        ],
        [
         3664510,
         0
        ],
        [
         3664511,
         1
        ],
        [
         3664512,
         1
        ],
        [
         3664513,
         0
        ],
        [
         3664514,
         0
        ],
        [
         3664515,
         0
        ],
        [
         3664516,
         0
        ],
        [
         3664517,
         1
        ],
        [
         3664518,
         0
        ],
        [
         3664519,
         0
        ],
        [
         3664520,
         0
        ],
        [
         3664521,
         1
        ],
        [
         3664522,
         1
        ],
        [
         3664523,
         0
        ],
        [
         3664524,
         1
        ],
        [
         3664525,
         0
        ],
        [
         3664526,
         0
        ],
        [
         3664527,
         1
        ],
        [
         3664528,
         0
        ],
        [
         3664529,
         0
        ],
        [
         3664530,
         0
        ],
        [
         3664531,
         1
        ],
        [
         3664532,
         0
        ],
        [
         3664533,
         0
        ],
        [
         3664534,
         1
        ],
        [
         3664535,
         0
        ],
        [
         3664536,
         0
        ],
        [
         3664537,
         1
        ],
        [
         3664538,
         0
        ],
        [
         3664539,
         0
        ],
        [
         3664540,
         0
        ],
        [
         3664541,
         0
        ],
        [
         3664542,
         0
        ],
        [
         3664543,
         0
        ],
        [
         3664544,
         1
        ],
        [
         3664545,
         0
        ],
        [
         3664546,
         0
        ],
        [
         3664547,
         0
        ],
        [
         3664548,
         0
        ]
       ],
       "datasetInfos": [],
       "dbfsResultPath": null,
       "isJsonSchema": true,
       "metadata": {},
       "overflow": true,
       "plotOptions": {
        "customPlotOptions": {},
        "displayType": "table",
        "pivotAggregation": null,
        "pivotColumns": [],
        "xColumns": [],
        "yColumns": []
       },
       "removedWidgets": [],
       "schema": [
        {
         "metadata": "{}",
         "name": "TransactionID",
         "type": "\"long\""
        },
        {
         "metadata": "{}",
         "name": "isFraud",
         "type": "\"long\""
        }
       ],
       "type": "table"
      }
     },
     "output_type": "display_data"
    }
   ],
   "source": [
    "# display and download the prediction dataframe, then submit it to https://www.kaggle.com/c/ieee-fraud-detection/submit for AUROC score\n",
    "\n",
    "submission_sp = spark.createDataFrame(submission)\n",
    "display(submission_sp)"
   ]
  },
  {
   "cell_type": "markdown",
   "metadata": {
    "application/vnd.databricks.v1+cell": {
     "inputWidgets": {},
     "nuid": "8a8e8766-e395-4436-ba7e-aa2c6034307d",
     "showTitle": false,
     "title": ""
    }
   },
   "source": [
    "# Test on varying batch size for Phase 2"
   ]
  },
  {
   "cell_type": "markdown",
   "metadata": {
    "application/vnd.databricks.v1+cell": {
     "inputWidgets": {},
     "nuid": "a4932f6b-980a-4143-ae09-39972dd35627",
     "showTitle": false,
     "title": ""
    }
   },
   "source": [
    "### Artificially increase the number of reserved instances to 100,000 with SMOTE"
   ]
  },
  {
   "cell_type": "code",
   "execution_count": 0,
   "metadata": {
    "application/vnd.databricks.v1+cell": {
     "inputWidgets": {},
     "nuid": "775092df-4f23-4109-a111-e36557c755b2",
     "showTitle": false,
     "title": ""
    }
   },
   "outputs": [
    {
     "data": {
      "text/html": [
       "<style scoped>\n",
       "  .ansiout {\n",
       "    display: block;\n",
       "    unicode-bidi: embed;\n",
       "    white-space: pre-wrap;\n",
       "    word-wrap: break-word;\n",
       "    word-break: break-all;\n",
       "    font-family: \"Source Code Pro\", \"Menlo\", monospace;;\n",
       "    font-size: 13px;\n",
       "    color: #555;\n",
       "    margin-left: 4px;\n",
       "    line-height: 19px;\n",
       "  }\n",
       "</style>\n",
       "<div class=\"ansiout\"></div>"
      ]
     },
     "metadata": {
      "application/vnd.databricks.v1+output": {
       "addedWidgets": {},
       "arguments": {},
       "data": "<div class=\"ansiout\"></div>",
       "datasetInfos": [],
       "metadata": {},
       "removedWidgets": [],
       "type": "html"
      }
     },
     "output_type": "display_data"
    }
   ],
   "source": [
    "# SMOTE code adopted from: https://github.com/Angkirat/Smote-for-Spark\n",
    "\n",
    "from sklearn import neighbors\n",
    "import random\n",
    "from pyspark.sql import Row\n",
    "\n",
    "def SmoteSampling(vectorized, k=5, percentageOver=200):\n",
    "    if(percentageOver < 100):\n",
    "        raise ValueError(\"Percentage Over must be in at least 100\");\n",
    "    feature = vectorized.select('standardized')\n",
    "    feature = feature.rdd\n",
    "    feature = feature.map(lambda x: x[0])\n",
    "    feature = feature.collect()\n",
    "    feature = np.asarray(feature)\n",
    "    nbrs = neighbors.NearestNeighbors(n_neighbors=k, algorithm='auto').fit(feature)\n",
    "    neighbours =  nbrs.kneighbors(feature)\n",
    "    gap = neighbours[0]\n",
    "    neighbours = neighbours[1]\n",
    "    min_rdd = vectorized.rdd\n",
    "    pos_rddArray = min_rdd.map(lambda x : list(x))\n",
    "    pos_ListArray = pos_rddArray.collect()\n",
    "    min_Array = list(pos_ListArray)\n",
    "    newRows = []\n",
    "    nt = len(min_Array)\n",
    "    nexs = percentageOver//100\n",
    "    start_idx = 4000000+1\n",
    "    count = 0\n",
    "    for i in range(nt):\n",
    "        for j in range(nexs):\n",
    "            neigh = random.randint(1,k)\n",
    "            difs = min_Array[neigh][0] - min_Array[i][0]\n",
    "            newRec = (min_Array[i][0]+random.random()*difs)\n",
    "            newRows.insert(0,(newRec, start_idx+count))\n",
    "            count += 1\n",
    "    newData_rdd = sc.parallelize(newRows)\n",
    "    newData_rdd_new = newData_rdd.map(lambda x: Row(standardized = x[0], TransactionID = x[1]))\n",
    "    new_data = newData_rdd_new.toDF()\n",
    "    \n",
    "    new_data_minor = vectorized.unionAll(new_data)\n",
    "    return new_data_minor\n",
    "\n",
    "\n",
    "new_synthetic_instances = data_scale_output_reserve.union(data_scale_output_train)\n",
    "new_synthetic_instances_smoted = SmoteSampling(new_synthetic_instances.select(['standardized', 'TransactionID']), percentageOver=400)\n",
    "\n",
    "reserved = new_synthetic_instances_smoted.rdd.map(lambda x : (np.array(x[0]), x[1]))"
   ]
  },
  {
   "cell_type": "markdown",
   "metadata": {
    "application/vnd.databricks.v1+cell": {
     "inputWidgets": {},
     "nuid": "c1fa7dee-1ccd-4137-9a03-2a6b32ec0719",
     "showTitle": false,
     "title": ""
    }
   },
   "source": [
    "### Reset the initial model"
   ]
  },
  {
   "cell_type": "code",
   "execution_count": 0,
   "metadata": {
    "application/vnd.databricks.v1+cell": {
     "inputWidgets": {},
     "nuid": "f7d30bf7-48a2-4073-b663-2ec334b6be7a",
     "showTitle": false,
     "title": ""
    }
   },
   "outputs": [
    {
     "data": {
      "text/html": [
       "<style scoped>\n",
       "  .ansiout {\n",
       "    display: block;\n",
       "    unicode-bidi: embed;\n",
       "    white-space: pre-wrap;\n",
       "    word-wrap: break-word;\n",
       "    word-break: break-all;\n",
       "    font-family: \"Source Code Pro\", \"Menlo\", monospace;;\n",
       "    font-size: 13px;\n",
       "    color: #555;\n",
       "    margin-left: 4px;\n",
       "    line-height: 19px;\n",
       "  }\n",
       "</style>\n",
       "<div class=\"ansiout\"></div>"
      ]
     },
     "metadata": {
      "application/vnd.databricks.v1+output": {
       "addedWidgets": {},
       "arguments": {},
       "data": "<div class=\"ansiout\"></div>",
       "datasetInfos": [],
       "metadata": {},
       "removedWidgets": [],
       "type": "html"
      }
     },
     "output_type": "display_data"
    }
   ],
   "source": [
    "model_instances_rdd = data_scale_output_train.rdd.map(lambda x : (np.array(x[0]), x[1]))\n",
    "model_instances_only = model_instances_rdd.map(lambda x : x[0])\n",
    "\n",
    "# broadcast the model\n",
    "model_instances = sc.broadcast(model_instances_rdd.collect())\n",
    "model_instances_only = sc.broadcast(model_instances_only.collect()) # additionally broadcast the model instances only (without the id) for calculating distance between it and the incoming reserved fraudulent instances"
   ]
  },
  {
   "cell_type": "markdown",
   "metadata": {
    "application/vnd.databricks.v1+cell": {
     "inputWidgets": {},
     "nuid": "19609dd4-727e-4a8b-adaf-d688c8c3d4e1",
     "showTitle": false,
     "title": ""
    }
   },
   "source": [
    "### Phase 2"
   ]
  },
  {
   "cell_type": "code",
   "execution_count": 0,
   "metadata": {
    "application/vnd.databricks.v1+cell": {
     "inputWidgets": {},
     "nuid": "f8faff09-7f51-407a-9091-bea71deade6e",
     "showTitle": false,
     "title": ""
    }
   },
   "outputs": [
    {
     "data": {
      "text/html": [
       "<style scoped>\n",
       "  .ansiout {\n",
       "    display: block;\n",
       "    unicode-bidi: embed;\n",
       "    white-space: pre-wrap;\n",
       "    word-wrap: break-word;\n",
       "    word-break: break-all;\n",
       "    font-family: \"Source Code Pro\", \"Menlo\", monospace;;\n",
       "    font-size: 13px;\n",
       "    color: #555;\n",
       "    margin-left: 4px;\n",
       "    line-height: 19px;\n",
       "  }\n",
       "</style>\n",
       "<div class=\"ansiout\">0 / 100000\n",
       "Avg processing time: 73.07531023025513\n",
       "Time taken for phase 2: 73.07553887367249\n",
       "</div>"
      ]
     },
     "metadata": {
      "application/vnd.databricks.v1+output": {
       "addedWidgets": {},
       "arguments": {},
       "data": "<div class=\"ansiout\">0 / 100000\nAvg processing time: 73.07531023025513\nTime taken for phase 2: 73.07553887367249\n</div>",
       "datasetInfos": [],
       "metadata": {},
       "removedWidgets": [],
       "type": "html"
      }
     },
     "output_type": "display_data"
    }
   ],
   "source": [
    "def calc_dist_instances(x):\n",
    "  # calculate and return the euclidean distance\n",
    "  dist = np.sum((model_instances_only.value - x[0])**2, axis=1) ** 0.5\n",
    "  return (*x, dist) # (instance, ID, array_of_dist)\n",
    "\n",
    "\n",
    "def group_neighbouring_instances(x):\n",
    "  # group instances that are within radius of the new instance\n",
    "  neighbouring_instances = [d<=radius for d in x[-1]]\n",
    "  overlapped_instances = [(x[1],(*v,1)) for i,v in enumerate(model_instances.value) if neighbouring_instances[i]]\n",
    "  # include the new instance itself (for merging later)\n",
    "  combined = [(x[1], (x[0], x[1], 1))] + overlapped_instances\n",
    "  return combined # list of instances, each instance (ID_x, (instance, ID_model, 1))\n",
    "\n",
    "\n",
    "\n",
    "\n",
    "# assign radius for each new instance\n",
    "radius = 0.02\n",
    "\n",
    "# collect the reserved instances into drive as we want to compute by batches\n",
    "res = reserved.collect()[:100000]\n",
    "\n",
    "batch_size = 100000 # 1, 50, 200, 1000, 5000, 10000, 100000\n",
    "\n",
    "phase_2_time = time.time()\n",
    "batch_num = 1\n",
    "for i in range(0, len(res), batch_size):\n",
    "  print(i, \"/\", len(res))\n",
    "  \n",
    "  # retrieve the batch of instances and convert to rdd\n",
    "  batch = res[i:i+batch_size]\n",
    "  batch = sc.parallelize(batch) # (I, id)\n",
    "  \n",
    "  # calculate distance between a new instance and all model instances\n",
    "  batch = batch.map(lambda x : calc_dist_instances(x)) # (I, id, [dist])\n",
    "  \n",
    "  # retrieve model instances to be grouped with the new instance\n",
    "  grouped_instances = batch.flatMap(lambda x : group_neighbouring_instances(x)) # (id, (I, id_m, 1)), (includes itself)\n",
    "  \n",
    "  # mark model instances to be removed\n",
    "  remove_id = grouped_instances.map(lambda x : x[1][1])\n",
    "  instances_to_remove = set(remove_id.collect())\n",
    "  \n",
    "  # merge the grouped instances\n",
    "  merged = grouped_instances.reduceByKey(lambda x,y : x+y) # (id, (combined_I, _, num_instances))\n",
    "  updated_instances = merged.map(lambda x : (x[1][0]/x[1][2], x[0])).collect() # (I, id)\n",
    "  \n",
    "  # update the model and broadcast it\n",
    "  updated_model = [instance for instance in model_instances.value if instance[1] not in instances_to_remove] + updated_instances\n",
    "  updated_model_instance_only = [instance[0] for instance in updated_model]\n",
    "  \n",
    "  # broadcast the model\n",
    "  model_instances = sc.broadcast(updated_model)\n",
    "  model_instances_only = sc.broadcast(updated_model_instance_only)\n",
    "  \n",
    "  \n",
    "  print(\"Avg processing time:\", (time.time()-phase_2_time)/batch_num)\n",
    "  batch_num += 1\n",
    "\n",
    "print(\"Time taken for phase 2:\", time.time()-phase_2_time)"
   ]
  },
  {
   "cell_type": "markdown",
   "metadata": {
    "application/vnd.databricks.v1+cell": {
     "inputWidgets": {},
     "nuid": "2001b6a1-ee94-4327-a64b-1ea55ba202a2",
     "showTitle": false,
     "title": ""
    }
   },
   "source": [
    "# Test on varying test dataset size"
   ]
  },
  {
   "cell_type": "markdown",
   "metadata": {
    "application/vnd.databricks.v1+cell": {
     "inputWidgets": {},
     "nuid": "068661e3-835e-475e-ac15-be0e9d3ab4f5",
     "showTitle": false,
     "title": ""
    }
   },
   "source": [
    "### Artificially resize test dataset"
   ]
  },
  {
   "cell_type": "code",
   "execution_count": 0,
   "metadata": {
    "application/vnd.databricks.v1+cell": {
     "inputWidgets": {},
     "nuid": "8977b55c-ca72-4e1e-9044-c1cc48679f8e",
     "showTitle": false,
     "title": ""
    }
   },
   "outputs": [
    {
     "data": {
      "text/html": [
       "<style scoped>\n",
       "  .ansiout {\n",
       "    display: block;\n",
       "    unicode-bidi: embed;\n",
       "    white-space: pre-wrap;\n",
       "    word-wrap: break-word;\n",
       "    word-break: break-all;\n",
       "    font-family: \"Source Code Pro\", \"Menlo\", monospace;;\n",
       "    font-size: 13px;\n",
       "    color: #555;\n",
       "    margin-left: 4px;\n",
       "    line-height: 19px;\n",
       "  }\n",
       "</style>\n",
       "<div class=\"ansiout\"></div>"
      ]
     },
     "metadata": {
      "application/vnd.databricks.v1+output": {
       "addedWidgets": {},
       "arguments": {},
       "data": "<div class=\"ansiout\"></div>",
       "datasetInfos": [],
       "metadata": {},
       "removedWidgets": [],
       "type": "html"
      }
     },
     "output_type": "display_data"
    }
   ],
   "source": [
    "# convert the validation test instances to rdd\n",
    "test_instances = data_scale_output_test.select(['standardized']).rdd.map(lambda x : np.array(x[0])) # 506691\n",
    "test_instances_1000 = test_instances.sample(False, 1000/test_instances.count())\n",
    "test_instances_5000 = test_instances.sample(False, 5000/test_instances.count())\n",
    "test_instances_50000 = test_instances.sample(False, 50000/test_instances.count())\n",
    "test_instances_500000 = test_instances.sample(False, 500000/test_instances.count())\n",
    "test_instances_5000000 = data_scale_output_test.union(data_scale_output_test) # ~1000000\n",
    "test_instances_5000000 = test_instances_5000000.union(test_instances_5000000) # ~2000000\n",
    "test_instances_5000000 = test_instances_5000000.union(test_instances_5000000) # ~4000000\n",
    "test_instances_5000000 = test_instances_5000000.union(data_scale_output_test).union(data_scale_output_test) # ~5000000\n",
    "test_instances_5000000 = test_instances_5000000.select(['standardized']).rdd.map(lambda x : np.array(x[0])).sample(False, 5000000/test_instances.count())"
   ]
  },
  {
   "cell_type": "markdown",
   "metadata": {
    "application/vnd.databricks.v1+cell": {
     "inputWidgets": {},
     "nuid": "f5d489fa-0652-4965-ad24-93a140bca0c6",
     "showTitle": false,
     "title": ""
    }
   },
   "source": [
    "### 1000 instances"
   ]
  },
  {
   "cell_type": "code",
   "execution_count": 0,
   "metadata": {
    "application/vnd.databricks.v1+cell": {
     "inputWidgets": {},
     "nuid": "5b967ba7-78c2-40e5-aa83-b27b9992edfc",
     "showTitle": false,
     "title": ""
    }
   },
   "outputs": [
    {
     "data": {
      "text/html": [
       "<style scoped>\n",
       "  .ansiout {\n",
       "    display: block;\n",
       "    unicode-bidi: embed;\n",
       "    white-space: pre-wrap;\n",
       "    word-wrap: break-word;\n",
       "    word-break: break-all;\n",
       "    font-family: \"Source Code Pro\", \"Menlo\", monospace;;\n",
       "    font-size: 13px;\n",
       "    color: #555;\n",
       "    margin-left: 4px;\n",
       "    line-height: 19px;\n",
       "  }\n",
       "</style>\n",
       "<div class=\"ansiout\">Test prediction time: 14.237886190414429\n",
       "</div>"
      ]
     },
     "metadata": {
      "application/vnd.databricks.v1+output": {
       "addedWidgets": {},
       "arguments": {},
       "data": "<div class=\"ansiout\">Test prediction time: 14.237886190414429\n</div>",
       "datasetInfos": [],
       "metadata": {},
       "removedWidgets": [],
       "type": "html"
      }
     },
     "output_type": "display_data"
    }
   ],
   "source": [
    "def calc_dist_instances(x):\n",
    "  # calculate and return the euclidean distance\n",
    "  dist = np.sum((model_instances_only.value - x[0])**2, axis=1) ** 0.5\n",
    "  return (*x, dist) # (instance, array_of_dist)\n",
    "\n",
    "\n",
    "def predict_instance(x):\n",
    "  # Group instances that are within radius of the new instance\n",
    "  num_neighbouring_instances = sum([d<=radius for d in x[-1]])\n",
    "  # return the \"confidence\" score, caps at 1.0\n",
    "  return min(num_neighbouring_instances / k, 1.)\n",
    "#   # return the hard classification\n",
    "#   return int(min(num_neighbouring_instances / k, 1.) > threshold)\n",
    "\n",
    "\n",
    "\n",
    "k = 5           # set k value for k-NN\n",
    "radius = 0.01   # assign radius for each new instance\n",
    "threshold = 0.5 # threshold for classifying test instances as fraudulent or not\n",
    "\n",
    "# log prediction time for validation dataset\n",
    "test_prediction_time = time.time()\n",
    "\n",
    "# calculate distance between a new instance and all model instances\n",
    "test_instances_1000 = test_instances_1000.map(lambda x : calc_dist_instances(x)) # (I, [dist])\n",
    "\n",
    "# assign prediction\n",
    "predictions = test_instances_1000.map(lambda x : predict_instance(x)).collect()\n",
    "\n",
    "print(\"Test prediction time:\", time.time()-test_prediction_time)\n"
   ]
  },
  {
   "cell_type": "markdown",
   "metadata": {
    "application/vnd.databricks.v1+cell": {
     "inputWidgets": {},
     "nuid": "f4641dc0-5870-43a2-b27f-e506f3fb5f8d",
     "showTitle": false,
     "title": ""
    }
   },
   "source": [
    "### 5000 instances"
   ]
  },
  {
   "cell_type": "code",
   "execution_count": 0,
   "metadata": {
    "application/vnd.databricks.v1+cell": {
     "inputWidgets": {},
     "nuid": "b8a30a99-3dab-463e-bcad-ecaafea105a5",
     "showTitle": false,
     "title": ""
    }
   },
   "outputs": [
    {
     "data": {
      "text/html": [
       "<style scoped>\n",
       "  .ansiout {\n",
       "    display: block;\n",
       "    unicode-bidi: embed;\n",
       "    white-space: pre-wrap;\n",
       "    word-wrap: break-word;\n",
       "    word-break: break-all;\n",
       "    font-family: \"Source Code Pro\", \"Menlo\", monospace;;\n",
       "    font-size: 13px;\n",
       "    color: #555;\n",
       "    margin-left: 4px;\n",
       "    line-height: 19px;\n",
       "  }\n",
       "</style>\n",
       "<div class=\"ansiout\">Test prediction time: 50.968210220336914\n",
       "</div>"
      ]
     },
     "metadata": {
      "application/vnd.databricks.v1+output": {
       "addedWidgets": {},
       "arguments": {},
       "data": "<div class=\"ansiout\">Test prediction time: 50.968210220336914\n</div>",
       "datasetInfos": [],
       "metadata": {},
       "removedWidgets": [],
       "type": "html"
      }
     },
     "output_type": "display_data"
    }
   ],
   "source": [
    "def calc_dist_instances(x):\n",
    "  # calculate and return the euclidean distance\n",
    "  dist = np.sum((model_instances_only.value - x[0])**2, axis=1) ** 0.5\n",
    "  return (*x, dist) # (instance, array_of_dist)\n",
    "\n",
    "\n",
    "def predict_instance(x):\n",
    "  # Group instances that are within radius of the new instance\n",
    "  num_neighbouring_instances = sum([d<=radius for d in x[-1]])\n",
    "  # return the \"confidence\" score, caps at 1.0\n",
    "  return min(num_neighbouring_instances / k, 1.)\n",
    "#   # return the hard classification\n",
    "#   return int(min(num_neighbouring_instances / k, 1.) > threshold)\n",
    "\n",
    "\n",
    "\n",
    "k = 5           # set k value for k-NN\n",
    "radius = 0.01   # assign radius for each new instance\n",
    "threshold = 0.5 # threshold for classifying test instances as fraudulent or not\n",
    "\n",
    "# log prediction time for validation dataset\n",
    "test_prediction_time = time.time()\n",
    "\n",
    "# calculate distance between a new instance and all model instances\n",
    "test_instances_5000 = test_instances_5000.map(lambda x : calc_dist_instances(x)) # (I, [dist])\n",
    "\n",
    "# assign prediction\n",
    "predictions = test_instances_5000.map(lambda x : predict_instance(x)).collect()\n",
    "\n",
    "print(\"Test prediction time:\", time.time()-test_prediction_time)\n"
   ]
  },
  {
   "cell_type": "markdown",
   "metadata": {
    "application/vnd.databricks.v1+cell": {
     "inputWidgets": {},
     "nuid": "694f67f3-e546-4e1c-98bc-3c2b373a35b0",
     "showTitle": false,
     "title": ""
    }
   },
   "source": [
    "### 50000 instances"
   ]
  },
  {
   "cell_type": "code",
   "execution_count": 0,
   "metadata": {
    "application/vnd.databricks.v1+cell": {
     "inputWidgets": {},
     "nuid": "ccde4b67-704d-45ed-a727-3dc7ee1895eb",
     "showTitle": false,
     "title": ""
    }
   },
   "outputs": [
    {
     "data": {
      "text/html": [
       "<style scoped>\n",
       "  .ansiout {\n",
       "    display: block;\n",
       "    unicode-bidi: embed;\n",
       "    white-space: pre-wrap;\n",
       "    word-wrap: break-word;\n",
       "    word-break: break-all;\n",
       "    font-family: \"Source Code Pro\", \"Menlo\", monospace;;\n",
       "    font-size: 13px;\n",
       "    color: #555;\n",
       "    margin-left: 4px;\n",
       "    line-height: 19px;\n",
       "  }\n",
       "</style>\n",
       "<div class=\"ansiout\">Test prediction time: 494.25802397727966\n",
       "</div>"
      ]
     },
     "metadata": {
      "application/vnd.databricks.v1+output": {
       "addedWidgets": {},
       "arguments": {},
       "data": "<div class=\"ansiout\">Test prediction time: 494.25802397727966\n</div>",
       "datasetInfos": [],
       "metadata": {},
       "removedWidgets": [],
       "type": "html"
      }
     },
     "output_type": "display_data"
    }
   ],
   "source": [
    "def calc_dist_instances(x):\n",
    "  # calculate and return the euclidean distance\n",
    "  dist = np.sum((model_instances_only.value - x[0])**2, axis=1) ** 0.5\n",
    "  return (*x, dist) # (instance, array_of_dist)\n",
    "\n",
    "\n",
    "def predict_instance(x):\n",
    "  # Group instances that are within radius of the new instance\n",
    "  num_neighbouring_instances = sum([d<=radius for d in x[-1]])\n",
    "  # return the \"confidence\" score, caps at 1.0\n",
    "  return min(num_neighbouring_instances / k, 1.)\n",
    "#   # return the hard classification\n",
    "#   return int(min(num_neighbouring_instances / k, 1.) > threshold)\n",
    "\n",
    "\n",
    "\n",
    "k = 5           # set k value for k-NN\n",
    "radius = 0.01   # assign radius for each new instance\n",
    "threshold = 0.5 # threshold for classifying test instances as fraudulent or not\n",
    "\n",
    "# log prediction time for validation dataset\n",
    "test_prediction_time = time.time()\n",
    "\n",
    "# calculate distance between a new instance and all model instances\n",
    "test_instances_50000 = test_instances_50000.map(lambda x : calc_dist_instances(x)) # (I, [dist])\n",
    "\n",
    "# assign prediction\n",
    "predictions = test_instances_50000.map(lambda x : predict_instance(x)).collect()\n",
    "\n",
    "print(\"Test prediction time:\", time.time()-test_prediction_time)\n"
   ]
  },
  {
   "cell_type": "markdown",
   "metadata": {
    "application/vnd.databricks.v1+cell": {
     "inputWidgets": {},
     "nuid": "37f31cd2-1339-4fcb-9919-3b8b61b27fbb",
     "showTitle": false,
     "title": ""
    }
   },
   "source": [
    "### 500000 instances"
   ]
  },
  {
   "cell_type": "code",
   "execution_count": 0,
   "metadata": {
    "application/vnd.databricks.v1+cell": {
     "inputWidgets": {},
     "nuid": "08657be0-3348-4e01-be03-6a558c9cf4a2",
     "showTitle": false,
     "title": ""
    }
   },
   "outputs": [
    {
     "data": {
      "text/html": [
       "<style scoped>\n",
       "  .ansiout {\n",
       "    display: block;\n",
       "    unicode-bidi: embed;\n",
       "    white-space: pre-wrap;\n",
       "    word-wrap: break-word;\n",
       "    word-break: break-all;\n",
       "    font-family: \"Source Code Pro\", \"Menlo\", monospace;;\n",
       "    font-size: 13px;\n",
       "    color: #555;\n",
       "    margin-left: 4px;\n",
       "    line-height: 19px;\n",
       "  }\n",
       "</style>"
      ]
     },
     "metadata": {
      "application/vnd.databricks.v1+output": {
       "arguments": {},
       "data": "",
       "errorSummary": "",
       "metadata": {},
       "type": "ipynbError"
      }
     },
     "output_type": "display_data"
    }
   ],
   "source": [
    "def calc_dist_instances(x):\n",
    "  # calculate and return the euclidean distance\n",
    "  dist = np.sum((model_instances_only.value - x[0])**2, axis=1) ** 0.5\n",
    "  return (*x, dist) # (instance, array_of_dist)\n",
    "\n",
    "\n",
    "def predict_instance(x):\n",
    "  # Group instances that are within radius of the new instance\n",
    "  num_neighbouring_instances = sum([d<=radius for d in x[-1]])\n",
    "  # return the \"confidence\" score, caps at 1.0\n",
    "  return min(num_neighbouring_instances / k, 1.)\n",
    "#   # return the hard classification\n",
    "#   return int(min(num_neighbouring_instances / k, 1.) > threshold)\n",
    "\n",
    "\n",
    "\n",
    "k = 5           # set k value for k-NN\n",
    "radius = 0.01   # assign radius for each new instance\n",
    "threshold = 0.5 # threshold for classifying test instances as fraudulent or not\n",
    "\n",
    "# log prediction time for validation dataset\n",
    "test_prediction_time = time.time()\n",
    "\n",
    "# calculate distance between a new instance and all model instances\n",
    "test_instances_500000 = test_instances_500000.map(lambda x : calc_dist_instances(x)) # (I, [dist])\n",
    "\n",
    "# assign prediction\n",
    "predictions = test_instances_500000.map(lambda x : predict_instance(x)).collect()\n",
    "\n",
    "print(\"Test prediction time:\", time.time()-test_prediction_time)\n"
   ]
  },
  {
   "cell_type": "markdown",
   "metadata": {
    "application/vnd.databricks.v1+cell": {
     "inputWidgets": {},
     "nuid": "f1a77996-a3c3-40b0-a60d-25106226afe5",
     "showTitle": false,
     "title": ""
    }
   },
   "source": [
    "### 5000000 instances"
   ]
  },
  {
   "cell_type": "code",
   "execution_count": 0,
   "metadata": {
    "application/vnd.databricks.v1+cell": {
     "inputWidgets": {},
     "nuid": "460fdd00-72ee-4e3a-8cc8-43ae615ebc89",
     "showTitle": false,
     "title": ""
    }
   },
   "outputs": [
    {
     "data": {
      "text/html": [
       "<style scoped>\n",
       "  .ansiout {\n",
       "    display: block;\n",
       "    unicode-bidi: embed;\n",
       "    white-space: pre-wrap;\n",
       "    word-wrap: break-word;\n",
       "    word-break: break-all;\n",
       "    font-family: \"Source Code Pro\", \"Menlo\", monospace;;\n",
       "    font-size: 13px;\n",
       "    color: #555;\n",
       "    margin-left: 4px;\n",
       "    line-height: 19px;\n",
       "  }\n",
       "</style>"
      ]
     },
     "metadata": {
      "application/vnd.databricks.v1+output": {
       "arguments": {},
       "data": "",
       "errorSummary": "Command skipped",
       "metadata": {},
       "type": "ipynbError"
      }
     },
     "output_type": "display_data"
    }
   ],
   "source": [
    "def calc_dist_instances(x):\n",
    "  # calculate and return the euclidean distance\n",
    "  dist = np.sum((model_instances_only.value - x[0])**2, axis=1) ** 0.5\n",
    "  return (*x, dist) # (instance, array_of_dist)\n",
    "\n",
    "\n",
    "def predict_instance(x):\n",
    "  # Group instances that are within radius of the new instance\n",
    "  num_neighbouring_instances = sum([d<=radius for d in x[-1]])\n",
    "  # return the \"confidence\" score, caps at 1.0\n",
    "  return min(num_neighbouring_instances / k, 1.)\n",
    "#   # return the hard classification\n",
    "#   return int(min(num_neighbouring_instances / k, 1.) > threshold)\n",
    "\n",
    "\n",
    "\n",
    "k = 5           # set k value for k-NN\n",
    "radius = 0.01   # assign radius for each new instance\n",
    "threshold = 0.5 # threshold for classifying test instances as fraudulent or not\n",
    "\n",
    "# log prediction time for validation dataset\n",
    "test_prediction_time = time.time()\n",
    "\n",
    "# calculate distance between a new instance and all model instances\n",
    "test_instances_5000000 = test_instances_5000000.map(lambda x : calc_dist_instances(x)) # (I, [dist])\n",
    "\n",
    "# assign prediction\n",
    "predictions = test_instances_5000000.map(lambda x : predict_instance(x)).collect()\n",
    "\n",
    "print(\"Test prediction time:\", time.time()-test_prediction_time)\n"
   ]
  },
  {
   "cell_type": "code",
   "execution_count": 0,
   "metadata": {
    "application/vnd.databricks.v1+cell": {
     "inputWidgets": {},
     "nuid": "2258a011-f05d-4dfd-a1d0-ab61ad2a7115",
     "showTitle": false,
     "title": ""
    }
   },
   "outputs": [],
   "source": []
  }
 ],
 "metadata": {
  "application/vnd.databricks.v1+notebook": {
   "dashboards": [],
   "language": "python",
   "notebookMetadata": {
    "pythonIndentUnit": 2
   },
   "notebookName": "pipeline_knn",
   "notebookOrigID": 1350927351487870,
   "widgets": {}
  },
  "kernelspec": {
   "display_name": "Python 3",
   "language": "python",
   "name": "python3"
  },
  "language_info": {
   "codemirror_mode": {
    "name": "ipython",
    "version": 3
   },
   "file_extension": ".py",
   "mimetype": "text/x-python",
   "name": "python",
   "nbconvert_exporter": "python",
   "pygments_lexer": "ipython3",
   "version": "3.7.4"
  }
 },
 "nbformat": 4,
 "nbformat_minor": 1
}
